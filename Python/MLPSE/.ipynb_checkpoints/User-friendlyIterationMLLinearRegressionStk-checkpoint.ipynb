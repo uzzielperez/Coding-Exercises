{
 "cells": [
  {
   "cell_type": "markdown",
   "metadata": {},
   "source": [
    "# (PROTOTYPE) Predictive Stock Trading Through Machine Learning  with Sklearn's Linear Regression \n",
    "\n",
    "Based on Lanz Lagman's Project. \n",
    "Making a user friendly version for testing."
   ]
  },
  {
   "cell_type": "markdown",
   "metadata": {},
   "source": [
    "Time Submitted: () GMT+8, ()"
   ]
  },
  {
   "cell_type": "markdown",
   "metadata": {},
   "source": [
    "## Testing Grounds"
   ]
  },
  {
   "cell_type": "code",
   "execution_count": 1,
   "metadata": {
    "collapsed": true
   },
   "outputs": [],
   "source": [
    "# Settings (EDIT THIS): \n",
    "inputfile = 'JFC_WSJ.csv'       # company historical data \n",
    "closeDate =  '2018-03-28'       # row 0 of stock.head() or last trading day data. Scroll down to check. Form: Y-M-D\n",
    "startPredtest = '2018-03-15'    # 13 days ahead of close date\n",
    "endPredtest = closeDate\n",
    "Pyear, Pmonth, Pday = 2018, 4, 2 #The monday after. real prediction starts here\n",
    "MonAfter = '2018-04-02'          # same as previous just rewrite into different format\n",
    "\n",
    "# See Predictions in the last cell (Do Restart & Run All in Kernel. See Prediction Graph in Last Cell)\n",
    "\n",
    "xStartPred = '2018-03-26'   # Anytime\n",
    "xEndPred = '2018-04-06'    # 4 days after mondayAfter "
   ]
  },
  {
   "cell_type": "code",
   "execution_count": 2,
   "metadata": {
    "collapsed": true
   },
   "outputs": [],
   "source": [
    "import numpy as np\n",
    "import pandas as pd\n",
    "import matplotlib.pyplot as plt\n",
    "%matplotlib inline\n",
    "import seaborn as sns\n",
    "from datetime import datetime, timedelta\n",
    "from adjustText import adjust_text"
   ]
  },
  {
   "cell_type": "markdown",
   "metadata": {},
   "source": [
    "## Part 1: Predict JFC stocks from 3/5/18 - 3/16/18 then compare with latest WSJ Data "
   ]
  },
  {
   "cell_type": "markdown",
   "metadata": {},
   "source": [
    "Since Google Finance data is not currently updated, we could get data from Wall Street Journal. Instead of using an API, we have to download csv files from the website.\n",
    "Download csv file of JFC prices from 2013-1-1 to 2018-3-17.\n",
    "\n",
    "Source: http://quotes.wsj.com/PH/XPHS/JFC/historical-prices"
   ]
  },
  {
   "cell_type": "markdown",
   "metadata": {},
   "source": [
    "Import data."
   ]
  },
  {
   "cell_type": "code",
   "execution_count": 3,
   "metadata": {
    "collapsed": true
   },
   "outputs": [],
   "source": [
    "stock = pd.read_csv(inputfile)"
   ]
  },
  {
   "cell_type": "markdown",
   "metadata": {},
   "source": [
    "Inspect dataframe."
   ]
  },
  {
   "cell_type": "code",
   "execution_count": 4,
   "metadata": {
    "scrolled": false
   },
   "outputs": [
    {
     "data": {
      "text/plain": [
       "Index([u'Date', u' Open', u' High', u' Low', u' Close', u' Volume'], dtype='object')"
      ]
     },
     "execution_count": 4,
     "metadata": {},
     "output_type": "execute_result"
    }
   ],
   "source": [
    "stock.columns"
   ]
  },
  {
   "cell_type": "markdown",
   "metadata": {},
   "source": [
    "Remove spaces from column names by renaming them."
   ]
  },
  {
   "cell_type": "code",
   "execution_count": 5,
   "metadata": {},
   "outputs": [
    {
     "data": {
      "text/plain": [
       "Index([u'Date', u'Open', u'High', u'Low', u'Close', u'Volume'], dtype='object')"
      ]
     },
     "execution_count": 5,
     "metadata": {},
     "output_type": "execute_result"
    }
   ],
   "source": [
    "stock.rename(columns=lambda x: x.strip(), inplace=True)\n",
    "stock.columns"
   ]
  },
  {
   "cell_type": "code",
   "execution_count": 6,
   "metadata": {
    "scrolled": false
   },
   "outputs": [
    {
     "name": "stdout",
     "output_type": "stream",
     "text": [
      "<class 'pandas.core.frame.DataFrame'>\n",
      "RangeIndex: 1276 entries, 0 to 1275\n",
      "Data columns (total 6 columns):\n",
      "Date      1276 non-null object\n",
      "Open      1276 non-null float64\n",
      "High      1276 non-null float64\n",
      "Low       1276 non-null float64\n",
      "Close     1276 non-null float64\n",
      "Volume    1276 non-null int64\n",
      "dtypes: float64(4), int64(1), object(1)\n",
      "memory usage: 59.9+ KB\n"
     ]
    }
   ],
   "source": [
    "stock.info()"
   ]
  },
  {
   "cell_type": "code",
   "execution_count": 7,
   "metadata": {},
   "outputs": [
    {
     "data": {
      "text/html": [
       "<div>\n",
       "<style>\n",
       "    .dataframe thead tr:only-child th {\n",
       "        text-align: right;\n",
       "    }\n",
       "\n",
       "    .dataframe thead th {\n",
       "        text-align: left;\n",
       "    }\n",
       "\n",
       "    .dataframe tbody tr th {\n",
       "        vertical-align: top;\n",
       "    }\n",
       "</style>\n",
       "<table border=\"1\" class=\"dataframe\">\n",
       "  <thead>\n",
       "    <tr style=\"text-align: right;\">\n",
       "      <th></th>\n",
       "      <th>Date</th>\n",
       "      <th>Open</th>\n",
       "      <th>High</th>\n",
       "      <th>Low</th>\n",
       "      <th>Close</th>\n",
       "      <th>Volume</th>\n",
       "    </tr>\n",
       "  </thead>\n",
       "  <tbody>\n",
       "    <tr>\n",
       "      <th>0</th>\n",
       "      <td>03/28/18</td>\n",
       "      <td>295.0</td>\n",
       "      <td>299.0</td>\n",
       "      <td>292.0</td>\n",
       "      <td>299.0</td>\n",
       "      <td>759390</td>\n",
       "    </tr>\n",
       "    <tr>\n",
       "      <th>1</th>\n",
       "      <td>03/27/18</td>\n",
       "      <td>295.0</td>\n",
       "      <td>297.0</td>\n",
       "      <td>289.4</td>\n",
       "      <td>294.4</td>\n",
       "      <td>356420</td>\n",
       "    </tr>\n",
       "    <tr>\n",
       "      <th>2</th>\n",
       "      <td>03/26/18</td>\n",
       "      <td>286.6</td>\n",
       "      <td>295.0</td>\n",
       "      <td>282.0</td>\n",
       "      <td>295.0</td>\n",
       "      <td>404650</td>\n",
       "    </tr>\n",
       "    <tr>\n",
       "      <th>3</th>\n",
       "      <td>03/23/18</td>\n",
       "      <td>285.0</td>\n",
       "      <td>288.0</td>\n",
       "      <td>280.0</td>\n",
       "      <td>288.0</td>\n",
       "      <td>864870</td>\n",
       "    </tr>\n",
       "    <tr>\n",
       "      <th>4</th>\n",
       "      <td>03/22/18</td>\n",
       "      <td>285.4</td>\n",
       "      <td>288.0</td>\n",
       "      <td>282.4</td>\n",
       "      <td>286.8</td>\n",
       "      <td>573890</td>\n",
       "    </tr>\n",
       "  </tbody>\n",
       "</table>\n",
       "</div>"
      ],
      "text/plain": [
       "       Date   Open   High    Low  Close  Volume\n",
       "0  03/28/18  295.0  299.0  292.0  299.0  759390\n",
       "1  03/27/18  295.0  297.0  289.4  294.4  356420\n",
       "2  03/26/18  286.6  295.0  282.0  295.0  404650\n",
       "3  03/23/18  285.0  288.0  280.0  288.0  864870\n",
       "4  03/22/18  285.4  288.0  282.4  286.8  573890"
      ]
     },
     "execution_count": 7,
     "metadata": {},
     "output_type": "execute_result"
    }
   ],
   "source": [
    "stock.head()"
   ]
  },
  {
   "cell_type": "code",
   "execution_count": 8,
   "metadata": {},
   "outputs": [
    {
     "data": {
      "text/html": [
       "<div>\n",
       "<style>\n",
       "    .dataframe thead tr:only-child th {\n",
       "        text-align: right;\n",
       "    }\n",
       "\n",
       "    .dataframe thead th {\n",
       "        text-align: left;\n",
       "    }\n",
       "\n",
       "    .dataframe tbody tr th {\n",
       "        vertical-align: top;\n",
       "    }\n",
       "</style>\n",
       "<table border=\"1\" class=\"dataframe\">\n",
       "  <thead>\n",
       "    <tr style=\"text-align: right;\">\n",
       "      <th></th>\n",
       "      <th>Date</th>\n",
       "      <th>Open</th>\n",
       "      <th>High</th>\n",
       "      <th>Low</th>\n",
       "      <th>Close</th>\n",
       "      <th>Volume</th>\n",
       "    </tr>\n",
       "  </thead>\n",
       "  <tbody>\n",
       "    <tr>\n",
       "      <th>1271</th>\n",
       "      <td>01/08/13</td>\n",
       "      <td>107.1</td>\n",
       "      <td>107.7</td>\n",
       "      <td>107.1</td>\n",
       "      <td>107.3</td>\n",
       "      <td>389530</td>\n",
       "    </tr>\n",
       "    <tr>\n",
       "      <th>1272</th>\n",
       "      <td>01/07/13</td>\n",
       "      <td>107.5</td>\n",
       "      <td>107.5</td>\n",
       "      <td>106.7</td>\n",
       "      <td>107.0</td>\n",
       "      <td>719780</td>\n",
       "    </tr>\n",
       "    <tr>\n",
       "      <th>1273</th>\n",
       "      <td>01/04/13</td>\n",
       "      <td>107.0</td>\n",
       "      <td>107.6</td>\n",
       "      <td>107.0</td>\n",
       "      <td>107.6</td>\n",
       "      <td>548040</td>\n",
       "    </tr>\n",
       "    <tr>\n",
       "      <th>1274</th>\n",
       "      <td>01/03/13</td>\n",
       "      <td>104.8</td>\n",
       "      <td>107.5</td>\n",
       "      <td>104.8</td>\n",
       "      <td>107.2</td>\n",
       "      <td>684290</td>\n",
       "    </tr>\n",
       "    <tr>\n",
       "      <th>1275</th>\n",
       "      <td>01/02/13</td>\n",
       "      <td>102.0</td>\n",
       "      <td>104.5</td>\n",
       "      <td>102.0</td>\n",
       "      <td>104.2</td>\n",
       "      <td>125900</td>\n",
       "    </tr>\n",
       "  </tbody>\n",
       "</table>\n",
       "</div>"
      ],
      "text/plain": [
       "          Date   Open   High    Low  Close  Volume\n",
       "1271  01/08/13  107.1  107.7  107.1  107.3  389530\n",
       "1272  01/07/13  107.5  107.5  106.7  107.0  719780\n",
       "1273  01/04/13  107.0  107.6  107.0  107.6  548040\n",
       "1274  01/03/13  104.8  107.5  104.8  107.2  684290\n",
       "1275  01/02/13  102.0  104.5  102.0  104.2  125900"
      ]
     },
     "execution_count": 8,
     "metadata": {},
     "output_type": "execute_result"
    }
   ],
   "source": [
    "stock.tail()"
   ]
  },
  {
   "cell_type": "code",
   "execution_count": 9,
   "metadata": {},
   "outputs": [
    {
     "data": {
      "text/plain": [
       "Date      0\n",
       "Open      0\n",
       "High      0\n",
       "Low       0\n",
       "Close     0\n",
       "Volume    0\n",
       "dtype: int64"
      ]
     },
     "execution_count": 9,
     "metadata": {},
     "output_type": "execute_result"
    }
   ],
   "source": [
    "stock.isnull().sum()"
   ]
  },
  {
   "cell_type": "markdown",
   "metadata": {},
   "source": [
    "No NaN values!!!\n",
    "However, we have to rearrange the data from descending to ascending order."
   ]
  },
  {
   "cell_type": "code",
   "execution_count": 10,
   "metadata": {
    "collapsed": true,
    "scrolled": true
   },
   "outputs": [],
   "source": [
    "stock = stock.reindex(index=stock.index[::-1]).reset_index(drop=True)"
   ]
  },
  {
   "cell_type": "code",
   "execution_count": 11,
   "metadata": {
    "scrolled": true
   },
   "outputs": [
    {
     "data": {
      "text/html": [
       "<div>\n",
       "<style>\n",
       "    .dataframe thead tr:only-child th {\n",
       "        text-align: right;\n",
       "    }\n",
       "\n",
       "    .dataframe thead th {\n",
       "        text-align: left;\n",
       "    }\n",
       "\n",
       "    .dataframe tbody tr th {\n",
       "        vertical-align: top;\n",
       "    }\n",
       "</style>\n",
       "<table border=\"1\" class=\"dataframe\">\n",
       "  <thead>\n",
       "    <tr style=\"text-align: right;\">\n",
       "      <th></th>\n",
       "      <th>Date</th>\n",
       "      <th>Open</th>\n",
       "      <th>High</th>\n",
       "      <th>Low</th>\n",
       "      <th>Close</th>\n",
       "      <th>Volume</th>\n",
       "    </tr>\n",
       "  </thead>\n",
       "  <tbody>\n",
       "    <tr>\n",
       "      <th>0</th>\n",
       "      <td>01/02/13</td>\n",
       "      <td>102.0</td>\n",
       "      <td>104.5</td>\n",
       "      <td>102.0</td>\n",
       "      <td>104.2</td>\n",
       "      <td>125900</td>\n",
       "    </tr>\n",
       "    <tr>\n",
       "      <th>1</th>\n",
       "      <td>01/03/13</td>\n",
       "      <td>104.8</td>\n",
       "      <td>107.5</td>\n",
       "      <td>104.8</td>\n",
       "      <td>107.2</td>\n",
       "      <td>684290</td>\n",
       "    </tr>\n",
       "    <tr>\n",
       "      <th>2</th>\n",
       "      <td>01/04/13</td>\n",
       "      <td>107.0</td>\n",
       "      <td>107.6</td>\n",
       "      <td>107.0</td>\n",
       "      <td>107.6</td>\n",
       "      <td>548040</td>\n",
       "    </tr>\n",
       "    <tr>\n",
       "      <th>3</th>\n",
       "      <td>01/07/13</td>\n",
       "      <td>107.5</td>\n",
       "      <td>107.5</td>\n",
       "      <td>106.7</td>\n",
       "      <td>107.0</td>\n",
       "      <td>719780</td>\n",
       "    </tr>\n",
       "    <tr>\n",
       "      <th>4</th>\n",
       "      <td>01/08/13</td>\n",
       "      <td>107.1</td>\n",
       "      <td>107.7</td>\n",
       "      <td>107.1</td>\n",
       "      <td>107.3</td>\n",
       "      <td>389530</td>\n",
       "    </tr>\n",
       "  </tbody>\n",
       "</table>\n",
       "</div>"
      ],
      "text/plain": [
       "       Date   Open   High    Low  Close  Volume\n",
       "0  01/02/13  102.0  104.5  102.0  104.2  125900\n",
       "1  01/03/13  104.8  107.5  104.8  107.2  684290\n",
       "2  01/04/13  107.0  107.6  107.0  107.6  548040\n",
       "3  01/07/13  107.5  107.5  106.7  107.0  719780\n",
       "4  01/08/13  107.1  107.7  107.1  107.3  389530"
      ]
     },
     "execution_count": 11,
     "metadata": {},
     "output_type": "execute_result"
    }
   ],
   "source": [
    "stock.head()"
   ]
  },
  {
   "cell_type": "code",
   "execution_count": 12,
   "metadata": {
    "scrolled": true
   },
   "outputs": [
    {
     "data": {
      "text/html": [
       "<div>\n",
       "<style>\n",
       "    .dataframe thead tr:only-child th {\n",
       "        text-align: right;\n",
       "    }\n",
       "\n",
       "    .dataframe thead th {\n",
       "        text-align: left;\n",
       "    }\n",
       "\n",
       "    .dataframe tbody tr th {\n",
       "        vertical-align: top;\n",
       "    }\n",
       "</style>\n",
       "<table border=\"1\" class=\"dataframe\">\n",
       "  <thead>\n",
       "    <tr style=\"text-align: right;\">\n",
       "      <th></th>\n",
       "      <th>Date</th>\n",
       "      <th>Open</th>\n",
       "      <th>High</th>\n",
       "      <th>Low</th>\n",
       "      <th>Close</th>\n",
       "      <th>Volume</th>\n",
       "    </tr>\n",
       "  </thead>\n",
       "  <tbody>\n",
       "    <tr>\n",
       "      <th>1271</th>\n",
       "      <td>03/22/18</td>\n",
       "      <td>285.4</td>\n",
       "      <td>288.0</td>\n",
       "      <td>282.4</td>\n",
       "      <td>286.8</td>\n",
       "      <td>573890</td>\n",
       "    </tr>\n",
       "    <tr>\n",
       "      <th>1272</th>\n",
       "      <td>03/23/18</td>\n",
       "      <td>285.0</td>\n",
       "      <td>288.0</td>\n",
       "      <td>280.0</td>\n",
       "      <td>288.0</td>\n",
       "      <td>864870</td>\n",
       "    </tr>\n",
       "    <tr>\n",
       "      <th>1273</th>\n",
       "      <td>03/26/18</td>\n",
       "      <td>286.6</td>\n",
       "      <td>295.0</td>\n",
       "      <td>282.0</td>\n",
       "      <td>295.0</td>\n",
       "      <td>404650</td>\n",
       "    </tr>\n",
       "    <tr>\n",
       "      <th>1274</th>\n",
       "      <td>03/27/18</td>\n",
       "      <td>295.0</td>\n",
       "      <td>297.0</td>\n",
       "      <td>289.4</td>\n",
       "      <td>294.4</td>\n",
       "      <td>356420</td>\n",
       "    </tr>\n",
       "    <tr>\n",
       "      <th>1275</th>\n",
       "      <td>03/28/18</td>\n",
       "      <td>295.0</td>\n",
       "      <td>299.0</td>\n",
       "      <td>292.0</td>\n",
       "      <td>299.0</td>\n",
       "      <td>759390</td>\n",
       "    </tr>\n",
       "  </tbody>\n",
       "</table>\n",
       "</div>"
      ],
      "text/plain": [
       "          Date   Open   High    Low  Close  Volume\n",
       "1271  03/22/18  285.4  288.0  282.4  286.8  573890\n",
       "1272  03/23/18  285.0  288.0  280.0  288.0  864870\n",
       "1273  03/26/18  286.6  295.0  282.0  295.0  404650\n",
       "1274  03/27/18  295.0  297.0  289.4  294.4  356420\n",
       "1275  03/28/18  295.0  299.0  292.0  299.0  759390"
      ]
     },
     "execution_count": 12,
     "metadata": {},
     "output_type": "execute_result"
    }
   ],
   "source": [
    "stock.tail()"
   ]
  },
  {
   "cell_type": "markdown",
   "metadata": {},
   "source": [
    "Convert 'Date' column as datetime objects and set it as index column."
   ]
  },
  {
   "cell_type": "code",
   "execution_count": 13,
   "metadata": {
    "collapsed": true
   },
   "outputs": [],
   "source": [
    "stock['Date'] = pd.to_datetime(stock['Date'], infer_datetime_format=True)"
   ]
  },
  {
   "cell_type": "code",
   "execution_count": 14,
   "metadata": {
    "collapsed": true
   },
   "outputs": [],
   "source": [
    "stock.set_index('Date',inplace=True)"
   ]
  },
  {
   "cell_type": "code",
   "execution_count": 15,
   "metadata": {
    "scrolled": true
   },
   "outputs": [
    {
     "name": "stdout",
     "output_type": "stream",
     "text": [
      "<class 'pandas.core.frame.DataFrame'>\n",
      "DatetimeIndex: 1276 entries, 2013-01-02 to 2018-03-28\n",
      "Data columns (total 5 columns):\n",
      "Open      1276 non-null float64\n",
      "High      1276 non-null float64\n",
      "Low       1276 non-null float64\n",
      "Close     1276 non-null float64\n",
      "Volume    1276 non-null int64\n",
      "dtypes: float64(4), int64(1)\n",
      "memory usage: 59.8 KB\n"
     ]
    }
   ],
   "source": [
    "stock.info()"
   ]
  },
  {
   "cell_type": "code",
   "execution_count": 16,
   "metadata": {},
   "outputs": [
    {
     "data": {
      "text/plain": [
       "pandas.core.indexes.datetimes.DatetimeIndex"
      ]
     },
     "execution_count": 16,
     "metadata": {},
     "output_type": "execute_result"
    }
   ],
   "source": [
    "type(stock.index)"
   ]
  },
  {
   "cell_type": "code",
   "execution_count": 17,
   "metadata": {
    "scrolled": true
   },
   "outputs": [
    {
     "data": {
      "text/html": [
       "<div>\n",
       "<style>\n",
       "    .dataframe thead tr:only-child th {\n",
       "        text-align: right;\n",
       "    }\n",
       "\n",
       "    .dataframe thead th {\n",
       "        text-align: left;\n",
       "    }\n",
       "\n",
       "    .dataframe tbody tr th {\n",
       "        vertical-align: top;\n",
       "    }\n",
       "</style>\n",
       "<table border=\"1\" class=\"dataframe\">\n",
       "  <thead>\n",
       "    <tr style=\"text-align: right;\">\n",
       "      <th></th>\n",
       "      <th>Open</th>\n",
       "      <th>High</th>\n",
       "      <th>Low</th>\n",
       "      <th>Close</th>\n",
       "      <th>Volume</th>\n",
       "    </tr>\n",
       "    <tr>\n",
       "      <th>Date</th>\n",
       "      <th></th>\n",
       "      <th></th>\n",
       "      <th></th>\n",
       "      <th></th>\n",
       "      <th></th>\n",
       "    </tr>\n",
       "  </thead>\n",
       "  <tbody>\n",
       "    <tr>\n",
       "      <th>2018-03-22</th>\n",
       "      <td>285.4</td>\n",
       "      <td>288.0</td>\n",
       "      <td>282.4</td>\n",
       "      <td>286.8</td>\n",
       "      <td>573890</td>\n",
       "    </tr>\n",
       "    <tr>\n",
       "      <th>2018-03-23</th>\n",
       "      <td>285.0</td>\n",
       "      <td>288.0</td>\n",
       "      <td>280.0</td>\n",
       "      <td>288.0</td>\n",
       "      <td>864870</td>\n",
       "    </tr>\n",
       "    <tr>\n",
       "      <th>2018-03-26</th>\n",
       "      <td>286.6</td>\n",
       "      <td>295.0</td>\n",
       "      <td>282.0</td>\n",
       "      <td>295.0</td>\n",
       "      <td>404650</td>\n",
       "    </tr>\n",
       "    <tr>\n",
       "      <th>2018-03-27</th>\n",
       "      <td>295.0</td>\n",
       "      <td>297.0</td>\n",
       "      <td>289.4</td>\n",
       "      <td>294.4</td>\n",
       "      <td>356420</td>\n",
       "    </tr>\n",
       "    <tr>\n",
       "      <th>2018-03-28</th>\n",
       "      <td>295.0</td>\n",
       "      <td>299.0</td>\n",
       "      <td>292.0</td>\n",
       "      <td>299.0</td>\n",
       "      <td>759390</td>\n",
       "    </tr>\n",
       "  </tbody>\n",
       "</table>\n",
       "</div>"
      ],
      "text/plain": [
       "             Open   High    Low  Close  Volume\n",
       "Date                                          \n",
       "2018-03-22  285.4  288.0  282.4  286.8  573890\n",
       "2018-03-23  285.0  288.0  280.0  288.0  864870\n",
       "2018-03-26  286.6  295.0  282.0  295.0  404650\n",
       "2018-03-27  295.0  297.0  289.4  294.4  356420\n",
       "2018-03-28  295.0  299.0  292.0  299.0  759390"
      ]
     },
     "execution_count": 17,
     "metadata": {},
     "output_type": "execute_result"
    }
   ],
   "source": [
    "stock.tail()"
   ]
  },
  {
   "cell_type": "markdown",
   "metadata": {},
   "source": [
    "Create Copy for exercise."
   ]
  },
  {
   "cell_type": "code",
   "execution_count": 18,
   "metadata": {
    "scrolled": true
   },
   "outputs": [
    {
     "data": {
      "text/html": [
       "<div>\n",
       "<style>\n",
       "    .dataframe thead tr:only-child th {\n",
       "        text-align: right;\n",
       "    }\n",
       "\n",
       "    .dataframe thead th {\n",
       "        text-align: left;\n",
       "    }\n",
       "\n",
       "    .dataframe tbody tr th {\n",
       "        vertical-align: top;\n",
       "    }\n",
       "</style>\n",
       "<table border=\"1\" class=\"dataframe\">\n",
       "  <thead>\n",
       "    <tr style=\"text-align: right;\">\n",
       "      <th></th>\n",
       "      <th>Open</th>\n",
       "      <th>High</th>\n",
       "      <th>Low</th>\n",
       "      <th>Close</th>\n",
       "      <th>Volume</th>\n",
       "    </tr>\n",
       "    <tr>\n",
       "      <th>Date</th>\n",
       "      <th></th>\n",
       "      <th></th>\n",
       "      <th></th>\n",
       "      <th></th>\n",
       "      <th></th>\n",
       "    </tr>\n",
       "  </thead>\n",
       "  <tbody>\n",
       "    <tr>\n",
       "      <th>2018-03-15</th>\n",
       "      <td>288.4</td>\n",
       "      <td>288.6</td>\n",
       "      <td>282.6</td>\n",
       "      <td>284.0</td>\n",
       "      <td>1140780</td>\n",
       "    </tr>\n",
       "    <tr>\n",
       "      <th>2018-03-16</th>\n",
       "      <td>286.8</td>\n",
       "      <td>305.4</td>\n",
       "      <td>286.8</td>\n",
       "      <td>305.4</td>\n",
       "      <td>2052470</td>\n",
       "    </tr>\n",
       "    <tr>\n",
       "      <th>2018-03-19</th>\n",
       "      <td>299.6</td>\n",
       "      <td>299.6</td>\n",
       "      <td>295.2</td>\n",
       "      <td>298.0</td>\n",
       "      <td>531280</td>\n",
       "    </tr>\n",
       "    <tr>\n",
       "      <th>2018-03-20</th>\n",
       "      <td>296.8</td>\n",
       "      <td>296.8</td>\n",
       "      <td>285.0</td>\n",
       "      <td>286.0</td>\n",
       "      <td>1028940</td>\n",
       "    </tr>\n",
       "    <tr>\n",
       "      <th>2018-03-21</th>\n",
       "      <td>286.6</td>\n",
       "      <td>293.0</td>\n",
       "      <td>285.0</td>\n",
       "      <td>285.0</td>\n",
       "      <td>953100</td>\n",
       "    </tr>\n",
       "    <tr>\n",
       "      <th>2018-03-22</th>\n",
       "      <td>285.4</td>\n",
       "      <td>288.0</td>\n",
       "      <td>282.4</td>\n",
       "      <td>286.8</td>\n",
       "      <td>573890</td>\n",
       "    </tr>\n",
       "    <tr>\n",
       "      <th>2018-03-23</th>\n",
       "      <td>285.0</td>\n",
       "      <td>288.0</td>\n",
       "      <td>280.0</td>\n",
       "      <td>288.0</td>\n",
       "      <td>864870</td>\n",
       "    </tr>\n",
       "    <tr>\n",
       "      <th>2018-03-26</th>\n",
       "      <td>286.6</td>\n",
       "      <td>295.0</td>\n",
       "      <td>282.0</td>\n",
       "      <td>295.0</td>\n",
       "      <td>404650</td>\n",
       "    </tr>\n",
       "    <tr>\n",
       "      <th>2018-03-27</th>\n",
       "      <td>295.0</td>\n",
       "      <td>297.0</td>\n",
       "      <td>289.4</td>\n",
       "      <td>294.4</td>\n",
       "      <td>356420</td>\n",
       "    </tr>\n",
       "    <tr>\n",
       "      <th>2018-03-28</th>\n",
       "      <td>295.0</td>\n",
       "      <td>299.0</td>\n",
       "      <td>292.0</td>\n",
       "      <td>299.0</td>\n",
       "      <td>759390</td>\n",
       "    </tr>\n",
       "  </tbody>\n",
       "</table>\n",
       "</div>"
      ],
      "text/plain": [
       "             Open   High    Low  Close   Volume\n",
       "Date                                           \n",
       "2018-03-15  288.4  288.6  282.6  284.0  1140780\n",
       "2018-03-16  286.8  305.4  286.8  305.4  2052470\n",
       "2018-03-19  299.6  299.6  295.2  298.0   531280\n",
       "2018-03-20  296.8  296.8  285.0  286.0  1028940\n",
       "2018-03-21  286.6  293.0  285.0  285.0   953100\n",
       "2018-03-22  285.4  288.0  282.4  286.8   573890\n",
       "2018-03-23  285.0  288.0  280.0  288.0   864870\n",
       "2018-03-26  286.6  295.0  282.0  295.0   404650\n",
       "2018-03-27  295.0  297.0  289.4  294.4   356420\n",
       "2018-03-28  295.0  299.0  292.0  299.0   759390"
      ]
     },
     "execution_count": 18,
     "metadata": {},
     "output_type": "execute_result"
    }
   ],
   "source": [
    "stockC = stock[stock.index.isin(pd.date_range(start='2013-01-01', end= closeDate))]\n",
    "stockC.tail(10)"
   ]
  },
  {
   "cell_type": "markdown",
   "metadata": {},
   "source": [
    "Notice that there are no values for 3/3 and 3/4. Trading days excluse weekends and holidays.\n",
    "\n",
    "Add Prediction column which contains the predicted Close column value n trading days later.\n",
    "\n",
    "The contents of the new column are just the values of the Close column shifted 5 days backwards, therefore, n=-5"
   ]
  },
  {
   "cell_type": "code",
   "execution_count": 19,
   "metadata": {
    "scrolled": true
   },
   "outputs": [
    {
     "data": {
      "text/html": [
       "<div>\n",
       "<style>\n",
       "    .dataframe thead tr:only-child th {\n",
       "        text-align: right;\n",
       "    }\n",
       "\n",
       "    .dataframe thead th {\n",
       "        text-align: left;\n",
       "    }\n",
       "\n",
       "    .dataframe tbody tr th {\n",
       "        vertical-align: top;\n",
       "    }\n",
       "</style>\n",
       "<table border=\"1\" class=\"dataframe\">\n",
       "  <thead>\n",
       "    <tr style=\"text-align: right;\">\n",
       "      <th></th>\n",
       "      <th>Open</th>\n",
       "      <th>High</th>\n",
       "      <th>Low</th>\n",
       "      <th>Close</th>\n",
       "      <th>Volume</th>\n",
       "      <th>Prediction</th>\n",
       "    </tr>\n",
       "    <tr>\n",
       "      <th>Date</th>\n",
       "      <th></th>\n",
       "      <th></th>\n",
       "      <th></th>\n",
       "      <th></th>\n",
       "      <th></th>\n",
       "      <th></th>\n",
       "    </tr>\n",
       "  </thead>\n",
       "  <tbody>\n",
       "    <tr>\n",
       "      <th>2018-03-14</th>\n",
       "      <td>293.0</td>\n",
       "      <td>294.4</td>\n",
       "      <td>287.4</td>\n",
       "      <td>288.4</td>\n",
       "      <td>757340</td>\n",
       "      <td>299.0</td>\n",
       "    </tr>\n",
       "    <tr>\n",
       "      <th>2018-03-15</th>\n",
       "      <td>288.4</td>\n",
       "      <td>288.6</td>\n",
       "      <td>282.6</td>\n",
       "      <td>284.0</td>\n",
       "      <td>1140780</td>\n",
       "      <td>NaN</td>\n",
       "    </tr>\n",
       "    <tr>\n",
       "      <th>2018-03-16</th>\n",
       "      <td>286.8</td>\n",
       "      <td>305.4</td>\n",
       "      <td>286.8</td>\n",
       "      <td>305.4</td>\n",
       "      <td>2052470</td>\n",
       "      <td>NaN</td>\n",
       "    </tr>\n",
       "    <tr>\n",
       "      <th>2018-03-19</th>\n",
       "      <td>299.6</td>\n",
       "      <td>299.6</td>\n",
       "      <td>295.2</td>\n",
       "      <td>298.0</td>\n",
       "      <td>531280</td>\n",
       "      <td>NaN</td>\n",
       "    </tr>\n",
       "    <tr>\n",
       "      <th>2018-03-20</th>\n",
       "      <td>296.8</td>\n",
       "      <td>296.8</td>\n",
       "      <td>285.0</td>\n",
       "      <td>286.0</td>\n",
       "      <td>1028940</td>\n",
       "      <td>NaN</td>\n",
       "    </tr>\n",
       "    <tr>\n",
       "      <th>2018-03-21</th>\n",
       "      <td>286.6</td>\n",
       "      <td>293.0</td>\n",
       "      <td>285.0</td>\n",
       "      <td>285.0</td>\n",
       "      <td>953100</td>\n",
       "      <td>NaN</td>\n",
       "    </tr>\n",
       "    <tr>\n",
       "      <th>2018-03-22</th>\n",
       "      <td>285.4</td>\n",
       "      <td>288.0</td>\n",
       "      <td>282.4</td>\n",
       "      <td>286.8</td>\n",
       "      <td>573890</td>\n",
       "      <td>NaN</td>\n",
       "    </tr>\n",
       "    <tr>\n",
       "      <th>2018-03-23</th>\n",
       "      <td>285.0</td>\n",
       "      <td>288.0</td>\n",
       "      <td>280.0</td>\n",
       "      <td>288.0</td>\n",
       "      <td>864870</td>\n",
       "      <td>NaN</td>\n",
       "    </tr>\n",
       "    <tr>\n",
       "      <th>2018-03-26</th>\n",
       "      <td>286.6</td>\n",
       "      <td>295.0</td>\n",
       "      <td>282.0</td>\n",
       "      <td>295.0</td>\n",
       "      <td>404650</td>\n",
       "      <td>NaN</td>\n",
       "    </tr>\n",
       "    <tr>\n",
       "      <th>2018-03-27</th>\n",
       "      <td>295.0</td>\n",
       "      <td>297.0</td>\n",
       "      <td>289.4</td>\n",
       "      <td>294.4</td>\n",
       "      <td>356420</td>\n",
       "      <td>NaN</td>\n",
       "    </tr>\n",
       "    <tr>\n",
       "      <th>2018-03-28</th>\n",
       "      <td>295.0</td>\n",
       "      <td>299.0</td>\n",
       "      <td>292.0</td>\n",
       "      <td>299.0</td>\n",
       "      <td>759390</td>\n",
       "      <td>NaN</td>\n",
       "    </tr>\n",
       "  </tbody>\n",
       "</table>\n",
       "</div>"
      ],
      "text/plain": [
       "             Open   High    Low  Close   Volume  Prediction\n",
       "Date                                                       \n",
       "2018-03-14  293.0  294.4  287.4  288.4   757340       299.0\n",
       "2018-03-15  288.4  288.6  282.6  284.0  1140780         NaN\n",
       "2018-03-16  286.8  305.4  286.8  305.4  2052470         NaN\n",
       "2018-03-19  299.6  299.6  295.2  298.0   531280         NaN\n",
       "2018-03-20  296.8  296.8  285.0  286.0  1028940         NaN\n",
       "2018-03-21  286.6  293.0  285.0  285.0   953100         NaN\n",
       "2018-03-22  285.4  288.0  282.4  286.8   573890         NaN\n",
       "2018-03-23  285.0  288.0  280.0  288.0   864870         NaN\n",
       "2018-03-26  286.6  295.0  282.0  295.0   404650         NaN\n",
       "2018-03-27  295.0  297.0  289.4  294.4   356420         NaN\n",
       "2018-03-28  295.0  299.0  292.0  299.0   759390         NaN"
      ]
     },
     "execution_count": 19,
     "metadata": {},
     "output_type": "execute_result"
    }
   ],
   "source": [
    "n=-10\n",
    "stockC['Prediction'] = stockC['Close'].shift(n)\n",
    "stockC.tail(11)"
   ]
  },
  {
   "cell_type": "code",
   "execution_count": 20,
   "metadata": {},
   "outputs": [
    {
     "data": {
      "text/plain": [
       "1276"
      ]
     },
     "execution_count": 20,
     "metadata": {},
     "output_type": "execute_result"
    }
   ],
   "source": [
    "len(stockC)"
   ]
  },
  {
   "cell_type": "markdown",
   "metadata": {},
   "source": [
    "In order to prepare the data for machine learning, we have to delete all rows with NaN values."
   ]
  },
  {
   "cell_type": "code",
   "execution_count": 21,
   "metadata": {
    "collapsed": true
   },
   "outputs": [],
   "source": [
    "from sklearn import preprocessing"
   ]
  },
  {
   "cell_type": "code",
   "execution_count": 22,
   "metadata": {
    "collapsed": true
   },
   "outputs": [],
   "source": [
    "X = preprocessing.scale(stockC.drop(['Prediction'], axis=1))"
   ]
  },
  {
   "cell_type": "code",
   "execution_count": 23,
   "metadata": {
    "collapsed": true
   },
   "outputs": [],
   "source": [
    "X_predict = X[n:]\n",
    "X = X[:n]"
   ]
  },
  {
   "cell_type": "code",
   "execution_count": 24,
   "metadata": {
    "collapsed": true
   },
   "outputs": [],
   "source": [
    "y = stockC['Prediction'][:n]"
   ]
  },
  {
   "cell_type": "code",
   "execution_count": 25,
   "metadata": {},
   "outputs": [
    {
     "name": "stdout",
     "output_type": "stream",
     "text": [
      "(<type 'numpy.ndarray'>, <type 'numpy.ndarray'>, <class 'pandas.core.series.Series'>)\n"
     ]
    }
   ],
   "source": [
    "print(type(X), type(X_predict), type(y))"
   ]
  },
  {
   "cell_type": "code",
   "execution_count": 26,
   "metadata": {
    "scrolled": true
   },
   "outputs": [
    {
     "name": "stdout",
     "output_type": "stream",
     "text": [
      "(1266, 10, 1266)\n"
     ]
    }
   ],
   "source": [
    "print(len(X), len(X_predict), len(y))"
   ]
  },
  {
   "cell_type": "code",
   "execution_count": 27,
   "metadata": {
    "collapsed": true
   },
   "outputs": [],
   "source": [
    "from sklearn.model_selection import train_test_split"
   ]
  },
  {
   "cell_type": "code",
   "execution_count": 28,
   "metadata": {
    "collapsed": true
   },
   "outputs": [],
   "source": [
    "X_train, X_test, y_train, y_test = train_test_split(X, y, test_size=(0.2))"
   ]
  },
  {
   "cell_type": "code",
   "execution_count": 29,
   "metadata": {},
   "outputs": [
    {
     "name": "stdout",
     "output_type": "stream",
     "text": [
      "(<type 'numpy.ndarray'>, <type 'numpy.ndarray'>, <class 'pandas.core.series.Series'>, <class 'pandas.core.series.Series'>)\n"
     ]
    }
   ],
   "source": [
    "print(type(X_train), type(X_test), type(y_train), type(y_test) )"
   ]
  },
  {
   "cell_type": "code",
   "execution_count": 30,
   "metadata": {
    "scrolled": true
   },
   "outputs": [
    {
     "name": "stdout",
     "output_type": "stream",
     "text": [
      "(1012, 254, 1012, 254)\n"
     ]
    }
   ],
   "source": [
    "print(len(X_train), len(X_test), len(y_train), len(y_test) )"
   ]
  },
  {
   "cell_type": "code",
   "execution_count": 31,
   "metadata": {
    "collapsed": true
   },
   "outputs": [],
   "source": [
    "from sklearn.linear_model import LinearRegression"
   ]
  },
  {
   "cell_type": "code",
   "execution_count": 32,
   "metadata": {
    "collapsed": true
   },
   "outputs": [],
   "source": [
    "lm = LinearRegression()"
   ]
  },
  {
   "cell_type": "code",
   "execution_count": 33,
   "metadata": {},
   "outputs": [
    {
     "data": {
      "text/plain": [
       "LinearRegression(copy_X=True, fit_intercept=True, n_jobs=1, normalize=False)"
      ]
     },
     "execution_count": 33,
     "metadata": {},
     "output_type": "execute_result"
    }
   ],
   "source": [
    "lm.fit(X_train,y_train)"
   ]
  },
  {
   "cell_type": "markdown",
   "metadata": {},
   "source": [
    "### Cross Validation"
   ]
  },
  {
   "cell_type": "code",
   "execution_count": 34,
   "metadata": {},
   "outputs": [
    {
     "data": {
      "text/plain": [
       "array([ 0.70249138,  0.02639153,  0.32293059,  0.76450678,  0.43456187,\n",
       "        0.43266652,  0.68879236,  0.59337819,  0.53556323,  0.67648322])"
      ]
     },
     "execution_count": 34,
     "metadata": {},
     "output_type": "execute_result"
    }
   ],
   "source": [
    "from sklearn.model_selection import cross_val_score\n",
    "from sklearn.svm import SVR\n",
    "\n",
    "lm = SVR(kernel='linear', C=1)\n",
    "scores = cross_val_score(lm, X, y, cv=10)\n",
    "scores #score for each split"
   ]
  },
  {
   "cell_type": "code",
   "execution_count": 35,
   "metadata": {
    "scrolled": true
   },
   "outputs": [
    {
     "name": "stdout",
     "output_type": "stream",
     "text": [
      "Accuracy: 0.52 (+/- 0.42)\n"
     ]
    }
   ],
   "source": [
    "print(\"Accuracy: %0.2f (+/- %0.2f)\" % (scores.mean(), scores.std() * 2))"
   ]
  },
  {
   "cell_type": "code",
   "execution_count": 36,
   "metadata": {},
   "outputs": [
    {
     "name": "stdout",
     "output_type": "stream",
     "text": [
      "Accuracy: 95.6870638377%\n"
     ]
    }
   ],
   "source": [
    "lm.fit(X_train, y_train)\n",
    "accuracy = lm.score(X_test, y_test)\n",
    "print('Accuracy: '+str(accuracy*100)+'%')"
   ]
  },
  {
   "cell_type": "markdown",
   "metadata": {},
   "source": [
    "### Predictions"
   ]
  },
  {
   "cell_type": "code",
   "execution_count": 37,
   "metadata": {
    "collapsed": true
   },
   "outputs": [],
   "source": [
    "predictions = lm.predict(X_test)"
   ]
  },
  {
   "cell_type": "code",
   "execution_count": 38,
   "metadata": {},
   "outputs": [
    {
     "data": {
      "image/png": "[encoded data removed]",
      "text/plain": [
       "<matplotlib.figure.Figure at 0x11c4f4ed0>"
      ]
     },
     "metadata": {},
     "output_type": "display_data"
    }
   ],
   "source": [
    "plt.scatter(y_test,predictions)\n",
    "plt.title('Accuracy: '+str((accuracy*100).round(2))+'%')\n",
    "plt.xlabel('Y Test')\n",
    "plt.ylabel('Predicted Y')\n",
    "sns.set_style('whitegrid')"
   ]
  },
  {
   "cell_type": "code",
   "execution_count": 39,
   "metadata": {},
   "outputs": [
    {
     "data": {
      "text/plain": [
       "<matplotlib.axes._subplots.AxesSubplot at 0x11c4ff310>"
      ]
     },
     "execution_count": 39,
     "metadata": {},
     "output_type": "execute_result"
    },
    {
     "data": {
      "image/png": "[encoded data removed]",
      "text/plain": [
       "<matplotlib.figure.Figure at 0x11edae990>"
      ]
     },
     "metadata": {},
     "output_type": "display_data"
    }
   ],
   "source": [
    "sns.distplot((y_test-predictions),bins=50)"
   ]
  },
  {
   "cell_type": "code",
   "execution_count": 40,
   "metadata": {
    "scrolled": true
   },
   "outputs": [
    {
     "data": {
      "text/plain": [
       "1266"
      ]
     },
     "execution_count": 40,
     "metadata": {},
     "output_type": "execute_result"
    }
   ],
   "source": [
    "predr_i = stock.index.get_loc(pd.Timestamp(startPredtest)) #start predict  # 13 days ahead of close\n",
    "predr_i"
   ]
  },
  {
   "cell_type": "code",
   "execution_count": 41,
   "metadata": {},
   "outputs": [
    {
     "data": {
      "text/plain": [
       "1275"
      ]
     },
     "execution_count": 41,
     "metadata": {},
     "output_type": "execute_result"
    }
   ],
   "source": [
    "predr_f = stock.index.get_loc(pd.Timestamp(closeDate)) #end predict endPredtest = closeDate\n",
    "predr_f"
   ]
  },
  {
   "cell_type": "code",
   "execution_count": 42,
   "metadata": {
    "scrolled": true
   },
   "outputs": [
    {
     "data": {
      "text/plain": [
       "DatetimeIndex(['2018-03-15', '2018-03-16', '2018-03-19', '2018-03-20',\n",
       "               '2018-03-21', '2018-03-22', '2018-03-23', '2018-03-26',\n",
       "               '2018-03-27', '2018-03-28'],\n",
       "              dtype='datetime64[ns]', name=u'Date', freq=None)"
      ]
     },
     "execution_count": 42,
     "metadata": {},
     "output_type": "execute_result"
    }
   ],
   "source": [
    "predr_index = stock.index[predr_i:predr_f+1]\n",
    "predr_index"
   ]
  },
  {
   "cell_type": "code",
   "execution_count": 43,
   "metadata": {},
   "outputs": [
    {
     "name": "stdout",
     "output_type": "stream",
     "text": [
      "Predicted values for 3/15-3/28: \n",
      "\n",
      "Date\n",
      "2018-03-15    285.90\n",
      "2018-03-16    297.21\n",
      "2018-03-19    297.47\n",
      "2018-03-20    290.66\n",
      "2018-03-21    287.32\n",
      "2018-03-22    285.40\n",
      "2018-03-23    285.24\n",
      "2018-03-26    289.30\n",
      "2018-03-27    293.26\n",
      "2018-03-28    295.99\n",
      "dtype: float64\n"
     ]
    }
   ],
   "source": [
    "stock_later = lm.predict(X_predict)\n",
    "Predicted_stock = pd.Series(stock_later, index=predr_index).round(2)\n",
    "print('Predicted values for 3/15-3/28: \\n') \n",
    "print(Predicted_stock)"
   ]
  },
  {
   "cell_type": "markdown",
   "metadata": {},
   "source": [
    "Actual values"
   ]
  },
  {
   "cell_type": "code",
   "execution_count": 44,
   "metadata": {
    "scrolled": true
   },
   "outputs": [
    {
     "name": "stdout",
     "output_type": "stream",
     "text": [
      "Date\n",
      "2018-03-15    284.0\n",
      "2018-03-16    305.4\n",
      "2018-03-19    298.0\n",
      "2018-03-20    286.0\n",
      "2018-03-21    285.0\n",
      "2018-03-22    286.8\n",
      "2018-03-23    288.0\n",
      "2018-03-26    295.0\n",
      "2018-03-27    294.4\n",
      "2018-03-28    299.0\n",
      "Name: Close, dtype: float64\n"
     ]
    }
   ],
   "source": [
    "Actual = pd.Series(stock['Close'].loc[predr_index])\n",
    "print(Actual)"
   ]
  },
  {
   "cell_type": "markdown",
   "metadata": {},
   "source": [
    "Create dataframe for comparison."
   ]
  },
  {
   "cell_type": "code",
   "execution_count": 45,
   "metadata": {
    "scrolled": true
   },
   "outputs": [
    {
     "data": {
      "text/html": [
       "<div>\n",
       "<style>\n",
       "    .dataframe thead tr:only-child th {\n",
       "        text-align: right;\n",
       "    }\n",
       "\n",
       "    .dataframe thead th {\n",
       "        text-align: left;\n",
       "    }\n",
       "\n",
       "    .dataframe tbody tr th {\n",
       "        vertical-align: top;\n",
       "    }\n",
       "</style>\n",
       "<table border=\"1\" class=\"dataframe\">\n",
       "  <thead>\n",
       "    <tr style=\"text-align: right;\">\n",
       "      <th></th>\n",
       "      <th>Actual</th>\n",
       "      <th>Predicted</th>\n",
       "    </tr>\n",
       "    <tr>\n",
       "      <th>Date</th>\n",
       "      <th></th>\n",
       "      <th></th>\n",
       "    </tr>\n",
       "  </thead>\n",
       "  <tbody>\n",
       "    <tr>\n",
       "      <th>2018-03-15</th>\n",
       "      <td>284.0</td>\n",
       "      <td>285.90</td>\n",
       "    </tr>\n",
       "    <tr>\n",
       "      <th>2018-03-16</th>\n",
       "      <td>305.4</td>\n",
       "      <td>297.21</td>\n",
       "    </tr>\n",
       "    <tr>\n",
       "      <th>2018-03-19</th>\n",
       "      <td>298.0</td>\n",
       "      <td>297.47</td>\n",
       "    </tr>\n",
       "    <tr>\n",
       "      <th>2018-03-20</th>\n",
       "      <td>286.0</td>\n",
       "      <td>290.66</td>\n",
       "    </tr>\n",
       "    <tr>\n",
       "      <th>2018-03-21</th>\n",
       "      <td>285.0</td>\n",
       "      <td>287.32</td>\n",
       "    </tr>\n",
       "    <tr>\n",
       "      <th>2018-03-22</th>\n",
       "      <td>286.8</td>\n",
       "      <td>285.40</td>\n",
       "    </tr>\n",
       "    <tr>\n",
       "      <th>2018-03-23</th>\n",
       "      <td>288.0</td>\n",
       "      <td>285.24</td>\n",
       "    </tr>\n",
       "    <tr>\n",
       "      <th>2018-03-26</th>\n",
       "      <td>295.0</td>\n",
       "      <td>289.30</td>\n",
       "    </tr>\n",
       "    <tr>\n",
       "      <th>2018-03-27</th>\n",
       "      <td>294.4</td>\n",
       "      <td>293.26</td>\n",
       "    </tr>\n",
       "    <tr>\n",
       "      <th>2018-03-28</th>\n",
       "      <td>299.0</td>\n",
       "      <td>295.99</td>\n",
       "    </tr>\n",
       "  </tbody>\n",
       "</table>\n",
       "</div>"
      ],
      "text/plain": [
       "            Actual  Predicted\n",
       "Date                         \n",
       "2018-03-15   284.0     285.90\n",
       "2018-03-16   305.4     297.21\n",
       "2018-03-19   298.0     297.47\n",
       "2018-03-20   286.0     290.66\n",
       "2018-03-21   285.0     287.32\n",
       "2018-03-22   286.8     285.40\n",
       "2018-03-23   288.0     285.24\n",
       "2018-03-26   295.0     289.30\n",
       "2018-03-27   294.4     293.26\n",
       "2018-03-28   299.0     295.99"
      ]
     },
     "execution_count": 45,
     "metadata": {},
     "output_type": "execute_result"
    }
   ],
   "source": [
    "stock_c = pd.DataFrame({'Actual':Actual,'Predicted':Predicted_stock}).set_index(predr_index).round(2)\n",
    "stock_c"
   ]
  },
  {
   "cell_type": "markdown",
   "metadata": {},
   "source": [
    "## Part 1.2: Visualization "
   ]
  },
  {
   "cell_type": "code",
   "execution_count": 46,
   "metadata": {
    "collapsed": true
   },
   "outputs": [],
   "source": [
    "pred_color='blue'"
   ]
  },
  {
   "cell_type": "code",
   "execution_count": 47,
   "metadata": {
    "collapsed": true
   },
   "outputs": [],
   "source": [
    "actual_color='red'"
   ]
  },
  {
   "cell_type": "code",
   "execution_count": 48,
   "metadata": {
    "collapsed": true
   },
   "outputs": [],
   "source": [
    "stock_name = 'JFC.PH'"
   ]
  },
  {
   "cell_type": "code",
   "execution_count": 49,
   "metadata": {},
   "outputs": [
    {
     "data": {
      "image/png": "[encoded data removed]",
      "text/plain": [
       "<matplotlib.figure.Figure at 0x11ecc00d0>"
      ]
     },
     "metadata": {},
     "output_type": "display_data"
    }
   ],
   "source": [
    "plt.title(stock_name, fontsize=25)\n",
    "\n",
    "stock['Close'].plot(figsize=(24,6),legend=None, color=actual_color)\n",
    "\n",
    "#jfc['Close'].plot(figsize=(24,6),legend=None, color=actual_color)\n",
    "\n",
    "#plt.ylabel('Closing Price (₱)', fontsize=15)\n",
    "plt.xlabel('Date', fontsize=15)\n",
    "plt.xlim(xmin=stock.index[0], xmax=stock.index[-1])\n",
    "plt.xticks(ha='center')\n",
    "\n",
    "plt.tight_layout()"
   ]
  },
  {
   "cell_type": "markdown",
   "metadata": {},
   "source": [
    "Create linking. This will be used to link the line graphs of predicted and actual values."
   ]
  },
  {
   "cell_type": "code",
   "execution_count": 50,
   "metadata": {},
   "outputs": [
    {
     "data": {
      "text/plain": [
       "288.39999999999998"
      ]
     },
     "execution_count": 50,
     "metadata": {},
     "output_type": "execute_result"
    }
   ],
   "source": [
    "l_i = stock['Close'].loc[stockC.index[n-1]]\n",
    "l_i"
   ]
  },
  {
   "cell_type": "code",
   "execution_count": 51,
   "metadata": {},
   "outputs": [
    {
     "data": {
      "text/plain": [
       "285.89999999999998"
      ]
     },
     "execution_count": 51,
     "metadata": {},
     "output_type": "execute_result"
    }
   ],
   "source": [
    "l_f = stock_c['Predicted'][stock_c.index[0]]\n",
    "l_f"
   ]
  },
  {
   "cell_type": "code",
   "execution_count": 52,
   "metadata": {},
   "outputs": [
    {
     "data": {
      "text/plain": [
       "1257"
      ]
     },
     "execution_count": 52,
     "metadata": {},
     "output_type": "execute_result"
    }
   ],
   "source": [
    "link_i = stock.index.get_loc(pd.Timestamp('2018-03-02')) #start plot\n",
    "#link_i = stock.index.get_loc(pd.Timestamp('2018-03-16')) #start plot\n",
    "link_i"
   ]
  },
  {
   "cell_type": "code",
   "execution_count": 53,
   "metadata": {},
   "outputs": [
    {
     "data": {
      "text/plain": [
       "1258"
      ]
     },
     "execution_count": 53,
     "metadata": {},
     "output_type": "execute_result"
    }
   ],
   "source": [
    "link_f = stock.index.get_loc(pd.Timestamp('2018-03-05')) #2nd entry plot\n",
    "#link_f = stock.index.get_loc(pd.Timestamp('2018-03-19')) #2nd entry plot\n",
    "link_f"
   ]
  },
  {
   "cell_type": "code",
   "execution_count": 54,
   "metadata": {},
   "outputs": [
    {
     "data": {
      "text/plain": [
       "DatetimeIndex(['2018-03-02', '2018-03-05'], dtype='datetime64[ns]', name=u'Date', freq=None)"
      ]
     },
     "execution_count": 54,
     "metadata": {},
     "output_type": "execute_result"
    }
   ],
   "source": [
    "link_index = stock.index[link_i:link_f+1]\n",
    "link_index"
   ]
  },
  {
   "cell_type": "code",
   "execution_count": 55,
   "metadata": {},
   "outputs": [
    {
     "data": {
      "text/html": [
       "<div>\n",
       "<style>\n",
       "    .dataframe thead tr:only-child th {\n",
       "        text-align: right;\n",
       "    }\n",
       "\n",
       "    .dataframe thead th {\n",
       "        text-align: left;\n",
       "    }\n",
       "\n",
       "    .dataframe tbody tr th {\n",
       "        vertical-align: top;\n",
       "    }\n",
       "</style>\n",
       "<table border=\"1\" class=\"dataframe\">\n",
       "  <thead>\n",
       "    <tr style=\"text-align: right;\">\n",
       "      <th></th>\n",
       "      <th>Link</th>\n",
       "    </tr>\n",
       "    <tr>\n",
       "      <th>Date</th>\n",
       "      <th></th>\n",
       "    </tr>\n",
       "  </thead>\n",
       "  <tbody>\n",
       "    <tr>\n",
       "      <th>2018-03-02</th>\n",
       "      <td>288.4</td>\n",
       "    </tr>\n",
       "    <tr>\n",
       "      <th>2018-03-05</th>\n",
       "      <td>285.9</td>\n",
       "    </tr>\n",
       "  </tbody>\n",
       "</table>\n",
       "</div>"
      ],
      "text/plain": [
       "             Link\n",
       "Date             \n",
       "2018-03-02  288.4\n",
       "2018-03-05  285.9"
      ]
     },
     "execution_count": 55,
     "metadata": {},
     "output_type": "execute_result"
    }
   ],
   "source": [
    "stock_l = pd.DataFrame({'Link':[l_i,l_f]}, index=link_index)\n",
    "stock_l"
   ]
  },
  {
   "cell_type": "markdown",
   "metadata": {},
   "source": [
    "Combine stock_l and stock_c"
   ]
  },
  {
   "cell_type": "code",
   "execution_count": 56,
   "metadata": {},
   "outputs": [
    {
     "data": {
      "text/html": [
       "<div>\n",
       "<style>\n",
       "    .dataframe thead tr:only-child th {\n",
       "        text-align: right;\n",
       "    }\n",
       "\n",
       "    .dataframe thead th {\n",
       "        text-align: left;\n",
       "    }\n",
       "\n",
       "    .dataframe tbody tr th {\n",
       "        vertical-align: top;\n",
       "    }\n",
       "</style>\n",
       "<table border=\"1\" class=\"dataframe\">\n",
       "  <thead>\n",
       "    <tr style=\"text-align: right;\">\n",
       "      <th></th>\n",
       "      <th>Predicted</th>\n",
       "    </tr>\n",
       "    <tr>\n",
       "      <th>Date</th>\n",
       "      <th></th>\n",
       "    </tr>\n",
       "  </thead>\n",
       "  <tbody>\n",
       "    <tr>\n",
       "      <th>2018-03-02</th>\n",
       "      <td>288.40</td>\n",
       "    </tr>\n",
       "    <tr>\n",
       "      <th>2018-03-05</th>\n",
       "      <td>285.90</td>\n",
       "    </tr>\n",
       "    <tr>\n",
       "      <th>2018-03-15</th>\n",
       "      <td>285.90</td>\n",
       "    </tr>\n",
       "    <tr>\n",
       "      <th>2018-03-16</th>\n",
       "      <td>297.21</td>\n",
       "    </tr>\n",
       "    <tr>\n",
       "      <th>2018-03-19</th>\n",
       "      <td>297.47</td>\n",
       "    </tr>\n",
       "    <tr>\n",
       "      <th>2018-03-20</th>\n",
       "      <td>290.66</td>\n",
       "    </tr>\n",
       "    <tr>\n",
       "      <th>2018-03-21</th>\n",
       "      <td>287.32</td>\n",
       "    </tr>\n",
       "    <tr>\n",
       "      <th>2018-03-22</th>\n",
       "      <td>285.40</td>\n",
       "    </tr>\n",
       "    <tr>\n",
       "      <th>2018-03-23</th>\n",
       "      <td>285.24</td>\n",
       "    </tr>\n",
       "    <tr>\n",
       "      <th>2018-03-26</th>\n",
       "      <td>289.30</td>\n",
       "    </tr>\n",
       "    <tr>\n",
       "      <th>2018-03-27</th>\n",
       "      <td>293.26</td>\n",
       "    </tr>\n",
       "    <tr>\n",
       "      <th>2018-03-28</th>\n",
       "      <td>295.99</td>\n",
       "    </tr>\n",
       "  </tbody>\n",
       "</table>\n",
       "</div>"
      ],
      "text/plain": [
       "            Predicted\n",
       "Date                 \n",
       "2018-03-02     288.40\n",
       "2018-03-05     285.90\n",
       "2018-03-15     285.90\n",
       "2018-03-16     297.21\n",
       "2018-03-19     297.47\n",
       "2018-03-20     290.66\n",
       "2018-03-21     287.32\n",
       "2018-03-22     285.40\n",
       "2018-03-23     285.24\n",
       "2018-03-26     289.30\n",
       "2018-03-27     293.26\n",
       "2018-03-28     295.99"
      ]
     },
     "execution_count": 56,
     "metadata": {},
     "output_type": "execute_result"
    }
   ],
   "source": [
    "stock_future = pd.DataFrame({'Predicted':stock_l['Link'].combine_first(stock_c['Predicted'])})\n",
    "stock_future"
   ]
  },
  {
   "cell_type": "code",
   "execution_count": 57,
   "metadata": {},
   "outputs": [
    {
     "data": {
      "image/png": "[encoded data removed]",
      "text/plain": [
       "<matplotlib.figure.Figure at 0x11f0de250>"
      ]
     },
     "metadata": {},
     "output_type": "display_data"
    }
   ],
   "source": [
    "plt.figure(figsize=(8,6))\n",
    "plt.title(stock_name + \": Actual vs. Predicted Closing Prices\", fontsize=20)\n",
    "\n",
    "stock['Close'].plot(label='Actual Price', legend=True, color=actual_color)\n",
    "stock_future['Predicted'].plot(label='Predicted Price', legend=True, color=pred_color)\n",
    "\n",
    "for i, txt in enumerate(stock_c['Predicted']):\n",
    "    plt.annotate(txt, (stock_c.index[i],stock_c['Predicted'][i]), \n",
    "                xytext=(stock_c.index[i],stock_c['Predicted'][i]-5),\n",
    "                horizontalalignment='center', verticalalignment='bottom',\n",
    "                arrowprops=dict(arrowstyle=\"-\",color=pred_color))\n",
    "    \n",
    "for i, txt in enumerate(stock_c['Actual']):\n",
    "    plt.annotate(txt, (stock_c.index[i],stock_c['Actual'][i]), \n",
    "                xytext=(stock_c.index[i],stock_c['Actual'][i]+5),\n",
    "                horizontalalignment='center', verticalalignment='top',\n",
    "                arrowprops=dict(arrowstyle=\"-\",color=actual_color))\n",
    "\n",
    "plt.scatter(stock_future.index,stock_future['Predicted'], s=15, color=pred_color)\n",
    "plt.scatter(stock_c.index,stock_c['Actual'], s=15, color=actual_color)\n",
    "\n",
    "#plt.xlim('2018-03-01', '2018-03-17')\n",
    "plt.xlim('2018-03-14', '2018-03-29')\n",
    "plt.ylim(ymin=270,ymax=320)\n",
    "plt.xlabel('\\nDate', fontsize=20)\n",
    "#plt.ylabel('Closing Price (₱)\\n', fontsize=20)\n",
    "plt.xticks(ha='center')\n",
    "\n",
    "plt.tight_layout()"
   ]
  },
  {
   "cell_type": "markdown",
   "metadata": {},
   "source": [
    "# Part 2: Predict JFC stocks from Close Date + 4 days "
   ]
  },
  {
   "cell_type": "code",
   "execution_count": 58,
   "metadata": {},
   "outputs": [
    {
     "data": {
      "text/html": [
       "<div>\n",
       "<style>\n",
       "    .dataframe thead tr:only-child th {\n",
       "        text-align: right;\n",
       "    }\n",
       "\n",
       "    .dataframe thead th {\n",
       "        text-align: left;\n",
       "    }\n",
       "\n",
       "    .dataframe tbody tr th {\n",
       "        vertical-align: top;\n",
       "    }\n",
       "</style>\n",
       "<table border=\"1\" class=\"dataframe\">\n",
       "  <thead>\n",
       "    <tr style=\"text-align: right;\">\n",
       "      <th></th>\n",
       "      <th>Open</th>\n",
       "      <th>High</th>\n",
       "      <th>Low</th>\n",
       "      <th>Close</th>\n",
       "      <th>Volume</th>\n",
       "    </tr>\n",
       "    <tr>\n",
       "      <th>Date</th>\n",
       "      <th></th>\n",
       "      <th></th>\n",
       "      <th></th>\n",
       "      <th></th>\n",
       "      <th></th>\n",
       "    </tr>\n",
       "  </thead>\n",
       "  <tbody>\n",
       "    <tr>\n",
       "      <th>2013-01-02</th>\n",
       "      <td>102.0</td>\n",
       "      <td>104.5</td>\n",
       "      <td>102.0</td>\n",
       "      <td>104.2</td>\n",
       "      <td>125900</td>\n",
       "    </tr>\n",
       "    <tr>\n",
       "      <th>2013-01-03</th>\n",
       "      <td>104.8</td>\n",
       "      <td>107.5</td>\n",
       "      <td>104.8</td>\n",
       "      <td>107.2</td>\n",
       "      <td>684290</td>\n",
       "    </tr>\n",
       "    <tr>\n",
       "      <th>2013-01-04</th>\n",
       "      <td>107.0</td>\n",
       "      <td>107.6</td>\n",
       "      <td>107.0</td>\n",
       "      <td>107.6</td>\n",
       "      <td>548040</td>\n",
       "    </tr>\n",
       "    <tr>\n",
       "      <th>2013-01-07</th>\n",
       "      <td>107.5</td>\n",
       "      <td>107.5</td>\n",
       "      <td>106.7</td>\n",
       "      <td>107.0</td>\n",
       "      <td>719780</td>\n",
       "    </tr>\n",
       "    <tr>\n",
       "      <th>2013-01-08</th>\n",
       "      <td>107.1</td>\n",
       "      <td>107.7</td>\n",
       "      <td>107.1</td>\n",
       "      <td>107.3</td>\n",
       "      <td>389530</td>\n",
       "    </tr>\n",
       "  </tbody>\n",
       "</table>\n",
       "</div>"
      ],
      "text/plain": [
       "             Open   High    Low  Close  Volume\n",
       "Date                                          \n",
       "2013-01-02  102.0  104.5  102.0  104.2  125900\n",
       "2013-01-03  104.8  107.5  104.8  107.2  684290\n",
       "2013-01-04  107.0  107.6  107.0  107.6  548040\n",
       "2013-01-07  107.5  107.5  106.7  107.0  719780\n",
       "2013-01-08  107.1  107.7  107.1  107.3  389530"
      ]
     },
     "execution_count": 58,
     "metadata": {},
     "output_type": "execute_result"
    }
   ],
   "source": [
    "stock.head()"
   ]
  },
  {
   "cell_type": "code",
   "execution_count": 59,
   "metadata": {},
   "outputs": [
    {
     "data": {
      "text/html": [
       "<div>\n",
       "<style>\n",
       "    .dataframe thead tr:only-child th {\n",
       "        text-align: right;\n",
       "    }\n",
       "\n",
       "    .dataframe thead th {\n",
       "        text-align: left;\n",
       "    }\n",
       "\n",
       "    .dataframe tbody tr th {\n",
       "        vertical-align: top;\n",
       "    }\n",
       "</style>\n",
       "<table border=\"1\" class=\"dataframe\">\n",
       "  <thead>\n",
       "    <tr style=\"text-align: right;\">\n",
       "      <th></th>\n",
       "      <th>Open</th>\n",
       "      <th>High</th>\n",
       "      <th>Low</th>\n",
       "      <th>Close</th>\n",
       "      <th>Volume</th>\n",
       "    </tr>\n",
       "    <tr>\n",
       "      <th>Date</th>\n",
       "      <th></th>\n",
       "      <th></th>\n",
       "      <th></th>\n",
       "      <th></th>\n",
       "      <th></th>\n",
       "    </tr>\n",
       "  </thead>\n",
       "  <tbody>\n",
       "    <tr>\n",
       "      <th>2018-03-22</th>\n",
       "      <td>285.4</td>\n",
       "      <td>288.0</td>\n",
       "      <td>282.4</td>\n",
       "      <td>286.8</td>\n",
       "      <td>573890</td>\n",
       "    </tr>\n",
       "    <tr>\n",
       "      <th>2018-03-23</th>\n",
       "      <td>285.0</td>\n",
       "      <td>288.0</td>\n",
       "      <td>280.0</td>\n",
       "      <td>288.0</td>\n",
       "      <td>864870</td>\n",
       "    </tr>\n",
       "    <tr>\n",
       "      <th>2018-03-26</th>\n",
       "      <td>286.6</td>\n",
       "      <td>295.0</td>\n",
       "      <td>282.0</td>\n",
       "      <td>295.0</td>\n",
       "      <td>404650</td>\n",
       "    </tr>\n",
       "    <tr>\n",
       "      <th>2018-03-27</th>\n",
       "      <td>295.0</td>\n",
       "      <td>297.0</td>\n",
       "      <td>289.4</td>\n",
       "      <td>294.4</td>\n",
       "      <td>356420</td>\n",
       "    </tr>\n",
       "    <tr>\n",
       "      <th>2018-03-28</th>\n",
       "      <td>295.0</td>\n",
       "      <td>299.0</td>\n",
       "      <td>292.0</td>\n",
       "      <td>299.0</td>\n",
       "      <td>759390</td>\n",
       "    </tr>\n",
       "  </tbody>\n",
       "</table>\n",
       "</div>"
      ],
      "text/plain": [
       "             Open   High    Low  Close  Volume\n",
       "Date                                          \n",
       "2018-03-22  285.4  288.0  282.4  286.8  573890\n",
       "2018-03-23  285.0  288.0  280.0  288.0  864870\n",
       "2018-03-26  286.6  295.0  282.0  295.0  404650\n",
       "2018-03-27  295.0  297.0  289.4  294.4  356420\n",
       "2018-03-28  295.0  299.0  292.0  299.0  759390"
      ]
     },
     "execution_count": 59,
     "metadata": {},
     "output_type": "execute_result"
    }
   ],
   "source": [
    "stock.tail()"
   ]
  },
  {
   "cell_type": "code",
   "execution_count": 60,
   "metadata": {},
   "outputs": [
    {
     "data": {
      "text/html": [
       "<div>\n",
       "<style>\n",
       "    .dataframe thead tr:only-child th {\n",
       "        text-align: right;\n",
       "    }\n",
       "\n",
       "    .dataframe thead th {\n",
       "        text-align: left;\n",
       "    }\n",
       "\n",
       "    .dataframe tbody tr th {\n",
       "        vertical-align: top;\n",
       "    }\n",
       "</style>\n",
       "<table border=\"1\" class=\"dataframe\">\n",
       "  <thead>\n",
       "    <tr style=\"text-align: right;\">\n",
       "      <th></th>\n",
       "      <th>Open</th>\n",
       "      <th>High</th>\n",
       "      <th>Low</th>\n",
       "      <th>Close</th>\n",
       "      <th>Volume</th>\n",
       "      <th>Prediction</th>\n",
       "    </tr>\n",
       "    <tr>\n",
       "      <th>Date</th>\n",
       "      <th></th>\n",
       "      <th></th>\n",
       "      <th></th>\n",
       "      <th></th>\n",
       "      <th></th>\n",
       "      <th></th>\n",
       "    </tr>\n",
       "  </thead>\n",
       "  <tbody>\n",
       "    <tr>\n",
       "      <th>2018-03-15</th>\n",
       "      <td>288.4</td>\n",
       "      <td>288.6</td>\n",
       "      <td>282.6</td>\n",
       "      <td>284.0</td>\n",
       "      <td>1140780</td>\n",
       "      <td>286.8</td>\n",
       "    </tr>\n",
       "    <tr>\n",
       "      <th>2018-03-16</th>\n",
       "      <td>286.8</td>\n",
       "      <td>305.4</td>\n",
       "      <td>286.8</td>\n",
       "      <td>305.4</td>\n",
       "      <td>2052470</td>\n",
       "      <td>288.0</td>\n",
       "    </tr>\n",
       "    <tr>\n",
       "      <th>2018-03-19</th>\n",
       "      <td>299.6</td>\n",
       "      <td>299.6</td>\n",
       "      <td>295.2</td>\n",
       "      <td>298.0</td>\n",
       "      <td>531280</td>\n",
       "      <td>295.0</td>\n",
       "    </tr>\n",
       "    <tr>\n",
       "      <th>2018-03-20</th>\n",
       "      <td>296.8</td>\n",
       "      <td>296.8</td>\n",
       "      <td>285.0</td>\n",
       "      <td>286.0</td>\n",
       "      <td>1028940</td>\n",
       "      <td>294.4</td>\n",
       "    </tr>\n",
       "    <tr>\n",
       "      <th>2018-03-21</th>\n",
       "      <td>286.6</td>\n",
       "      <td>293.0</td>\n",
       "      <td>285.0</td>\n",
       "      <td>285.0</td>\n",
       "      <td>953100</td>\n",
       "      <td>299.0</td>\n",
       "    </tr>\n",
       "    <tr>\n",
       "      <th>2018-03-22</th>\n",
       "      <td>285.4</td>\n",
       "      <td>288.0</td>\n",
       "      <td>282.4</td>\n",
       "      <td>286.8</td>\n",
       "      <td>573890</td>\n",
       "      <td>NaN</td>\n",
       "    </tr>\n",
       "    <tr>\n",
       "      <th>2018-03-23</th>\n",
       "      <td>285.0</td>\n",
       "      <td>288.0</td>\n",
       "      <td>280.0</td>\n",
       "      <td>288.0</td>\n",
       "      <td>864870</td>\n",
       "      <td>NaN</td>\n",
       "    </tr>\n",
       "    <tr>\n",
       "      <th>2018-03-26</th>\n",
       "      <td>286.6</td>\n",
       "      <td>295.0</td>\n",
       "      <td>282.0</td>\n",
       "      <td>295.0</td>\n",
       "      <td>404650</td>\n",
       "      <td>NaN</td>\n",
       "    </tr>\n",
       "    <tr>\n",
       "      <th>2018-03-27</th>\n",
       "      <td>295.0</td>\n",
       "      <td>297.0</td>\n",
       "      <td>289.4</td>\n",
       "      <td>294.4</td>\n",
       "      <td>356420</td>\n",
       "      <td>NaN</td>\n",
       "    </tr>\n",
       "    <tr>\n",
       "      <th>2018-03-28</th>\n",
       "      <td>295.0</td>\n",
       "      <td>299.0</td>\n",
       "      <td>292.0</td>\n",
       "      <td>299.0</td>\n",
       "      <td>759390</td>\n",
       "      <td>NaN</td>\n",
       "    </tr>\n",
       "  </tbody>\n",
       "</table>\n",
       "</div>"
      ],
      "text/plain": [
       "             Open   High    Low  Close   Volume  Prediction\n",
       "Date                                                       \n",
       "2018-03-15  288.4  288.6  282.6  284.0  1140780       286.8\n",
       "2018-03-16  286.8  305.4  286.8  305.4  2052470       288.0\n",
       "2018-03-19  299.6  299.6  295.2  298.0   531280       295.0\n",
       "2018-03-20  296.8  296.8  285.0  286.0  1028940       294.4\n",
       "2018-03-21  286.6  293.0  285.0  285.0   953100       299.0\n",
       "2018-03-22  285.4  288.0  282.4  286.8   573890         NaN\n",
       "2018-03-23  285.0  288.0  280.0  288.0   864870         NaN\n",
       "2018-03-26  286.6  295.0  282.0  295.0   404650         NaN\n",
       "2018-03-27  295.0  297.0  289.4  294.4   356420         NaN\n",
       "2018-03-28  295.0  299.0  292.0  299.0   759390         NaN"
      ]
     },
     "execution_count": 60,
     "metadata": {},
     "output_type": "execute_result"
    }
   ],
   "source": [
    "n=-5 # of days ahead \n",
    "stock['Prediction'] = stock['Close'].shift(n)\n",
    "stock.tail(10)                               "
   ]
  },
  {
   "cell_type": "code",
   "execution_count": 61,
   "metadata": {},
   "outputs": [
    {
     "data": {
      "text/plain": [
       "1276"
      ]
     },
     "execution_count": 61,
     "metadata": {},
     "output_type": "execute_result"
    }
   ],
   "source": [
    "len(stock)"
   ]
  },
  {
   "cell_type": "code",
   "execution_count": 62,
   "metadata": {
    "collapsed": true
   },
   "outputs": [],
   "source": [
    "X = preprocessing.scale(stock.drop(['Prediction'], axis=1))"
   ]
  },
  {
   "cell_type": "code",
   "execution_count": 63,
   "metadata": {
    "collapsed": true
   },
   "outputs": [],
   "source": [
    "X_predict = X[n:]\n",
    "X = X[:n]"
   ]
  },
  {
   "cell_type": "code",
   "execution_count": 64,
   "metadata": {
    "collapsed": true
   },
   "outputs": [],
   "source": [
    "y = stock['Prediction'][:n]"
   ]
  },
  {
   "cell_type": "code",
   "execution_count": 65,
   "metadata": {},
   "outputs": [
    {
     "data": {
      "text/plain": [
       "1271"
      ]
     },
     "execution_count": 65,
     "metadata": {},
     "output_type": "execute_result"
    }
   ],
   "source": [
    "len(X)"
   ]
  },
  {
   "cell_type": "code",
   "execution_count": 66,
   "metadata": {
    "collapsed": true
   },
   "outputs": [],
   "source": [
    "X_train, X_test, y_train, y_test = train_test_split(X, y, test_size=(0.2))"
   ]
  },
  {
   "cell_type": "code",
   "execution_count": 67,
   "metadata": {},
   "outputs": [
    {
     "data": {
      "text/plain": [
       "SVR(C=1, cache_size=200, coef0=0.0, degree=3, epsilon=0.1, gamma='auto',\n",
       "  kernel='linear', max_iter=-1, shrinking=True, tol=0.001, verbose=False)"
      ]
     },
     "execution_count": 67,
     "metadata": {},
     "output_type": "execute_result"
    }
   ],
   "source": [
    "lm.fit(X_train, y_train)"
   ]
  },
  {
   "cell_type": "code",
   "execution_count": 68,
   "metadata": {},
   "outputs": [
    {
     "name": "stdout",
     "output_type": "stream",
     "text": [
      "Accuracy: 96.4565584074%\n"
     ]
    }
   ],
   "source": [
    "accuracy = lm.score(X_test, y_test)\n",
    "#print('Accuracy: '+str(score*100)+'%')\n",
    "print('Accuracy: '+str(accuracy*100)+'%')"
   ]
  },
  {
   "cell_type": "markdown",
   "metadata": {},
   "source": [
    "### Cross Validation "
   ]
  },
  {
   "cell_type": "code",
   "execution_count": 69,
   "metadata": {},
   "outputs": [
    {
     "data": {
      "text/plain": [
       "array([ 0.94393399,  0.90441946,  0.71163446,  0.83283824,  0.94055334])"
      ]
     },
     "execution_count": 69,
     "metadata": {},
     "output_type": "execute_result"
    }
   ],
   "source": [
    "lm = SVR(kernel='linear', C=1)\n",
    "scores = cross_val_score(lm, X, y, cv=5)\n",
    "scores #score for each split"
   ]
  },
  {
   "cell_type": "code",
   "execution_count": 70,
   "metadata": {},
   "outputs": [
    {
     "name": "stdout",
     "output_type": "stream",
     "text": [
      "Accuracy: 0.87 (+/- 0.17)\n"
     ]
    }
   ],
   "source": [
    "print(\"Accuracy: %0.2f (+/- %0.2f)\" % (scores.mean(), scores.std() * 2))"
   ]
  },
  {
   "cell_type": "code",
   "execution_count": 71,
   "metadata": {},
   "outputs": [
    {
     "name": "stdout",
     "output_type": "stream",
     "text": [
      "Accuracy: 96.4565584074%\n"
     ]
    }
   ],
   "source": [
    "lm.fit(X_train, y_train)\n",
    "accuracy = lm.score(X_test, y_test)\n",
    "#print('Accuracy: '+str(score*100)+'%')\n",
    "print('Accuracy: '+str(accuracy*100)+'%')"
   ]
  },
  {
   "cell_type": "markdown",
   "metadata": {},
   "source": [
    "### Predictions "
   ]
  },
  {
   "cell_type": "code",
   "execution_count": 72,
   "metadata": {
    "collapsed": true
   },
   "outputs": [],
   "source": [
    "predictions = lm.predict(X_test)"
   ]
  },
  {
   "cell_type": "code",
   "execution_count": 73,
   "metadata": {},
   "outputs": [
    {
     "data": {
      "image/png": "[encoded data removed]",
      "text/plain": [
       "<matplotlib.figure.Figure at 0x11efd5110>"
      ]
     },
     "metadata": {},
     "output_type": "display_data"
    }
   ],
   "source": [
    "plt.scatter(y_test,predictions)\n",
    "plt.title('Accuracy: '+str((accuracy*100).round(2))+'%')\n",
    "plt.xlabel('Y Test')\n",
    "plt.ylabel('Predicted Y')\n",
    "sns.set_style('whitegrid')"
   ]
  },
  {
   "cell_type": "code",
   "execution_count": 74,
   "metadata": {},
   "outputs": [
    {
     "data": {
      "text/plain": [
       "<matplotlib.axes._subplots.AxesSubplot at 0x11f533c50>"
      ]
     },
     "execution_count": 74,
     "metadata": {},
     "output_type": "execute_result"
    },
    {
     "data": {
      "image/png": "[encoded data removed]",
      "text/plain": [
       "<matplotlib.figure.Figure at 0x11efd5c10>"
      ]
     },
     "metadata": {},
     "output_type": "display_data"
    }
   ],
   "source": [
    "sns.distplot((y_test-predictions),bins=50)"
   ]
  },
  {
   "cell_type": "code",
   "execution_count": 75,
   "metadata": {
    "scrolled": true
   },
   "outputs": [
    {
     "data": {
      "text/html": [
       "<div>\n",
       "<style>\n",
       "    .dataframe thead tr:only-child th {\n",
       "        text-align: right;\n",
       "    }\n",
       "\n",
       "    .dataframe thead th {\n",
       "        text-align: left;\n",
       "    }\n",
       "\n",
       "    .dataframe tbody tr th {\n",
       "        vertical-align: top;\n",
       "    }\n",
       "</style>\n",
       "<table border=\"1\" class=\"dataframe\">\n",
       "  <thead>\n",
       "    <tr style=\"text-align: right;\">\n",
       "      <th></th>\n",
       "      <th>Predicted</th>\n",
       "    </tr>\n",
       "  </thead>\n",
       "  <tbody>\n",
       "    <tr>\n",
       "      <th>2018-04-02</th>\n",
       "      <td>285.28</td>\n",
       "    </tr>\n",
       "    <tr>\n",
       "      <th>2018-04-03</th>\n",
       "      <td>285.56</td>\n",
       "    </tr>\n",
       "    <tr>\n",
       "      <th>2018-04-04</th>\n",
       "      <td>289.39</td>\n",
       "    </tr>\n",
       "    <tr>\n",
       "      <th>2018-04-05</th>\n",
       "      <td>293.07</td>\n",
       "    </tr>\n",
       "    <tr>\n",
       "      <th>2018-04-06</th>\n",
       "      <td>296.27</td>\n",
       "    </tr>\n",
       "  </tbody>\n",
       "</table>\n",
       "</div>"
      ],
      "text/plain": [
       "            Predicted\n",
       "2018-04-02     285.28\n",
       "2018-04-03     285.56\n",
       "2018-04-04     289.39\n",
       "2018-04-05     293.07\n",
       "2018-04-06     296.27"
      ]
     },
     "execution_count": 75,
     "metadata": {},
     "output_type": "execute_result"
    }
   ],
   "source": [
    "stock_later = lm.predict(X_predict)\n",
    "\n",
    "#days = pd.DatetimeIndex(pd.date_range(datetime(2018, 3, 19), datetime(2018, 3, 19) + timedelta(4), freq='D'))\n",
    "days = pd.DatetimeIndex(pd.date_range(datetime(Pyear, Pmonth, Pday), datetime(Pyear, Pmonth, Pday) + timedelta(4), freq='D'))\n",
    "stock_future = pd.Series(stock_later, index=days)\n",
    "stock_future = pd.DataFrame({'Predicted':stock_future}).set_index(days).round(2)\n",
    "stock_future"
   ]
  },
  {
   "cell_type": "code",
   "execution_count": 76,
   "metadata": {},
   "outputs": [
    {
     "data": {
      "text/plain": [
       "299.0"
      ]
     },
     "execution_count": 76,
     "metadata": {},
     "output_type": "execute_result"
    }
   ],
   "source": [
    "L_i = stock['Close'].loc[closeDate] #Close Date\n",
    "L_i"
   ]
  },
  {
   "cell_type": "code",
   "execution_count": 77,
   "metadata": {},
   "outputs": [
    {
     "data": {
      "text/plain": [
       "285.27999999999997"
      ]
     },
     "execution_count": 77,
     "metadata": {},
     "output_type": "execute_result"
    }
   ],
   "source": [
    "L_f = stock_future['Predicted'].loc[MonAfter] # Monday After\n",
    "L_f"
   ]
  },
  {
   "cell_type": "code",
   "execution_count": 78,
   "metadata": {},
   "outputs": [
    {
     "data": {
      "text/html": [
       "<div>\n",
       "<style>\n",
       "    .dataframe thead tr:only-child th {\n",
       "        text-align: right;\n",
       "    }\n",
       "\n",
       "    .dataframe thead th {\n",
       "        text-align: left;\n",
       "    }\n",
       "\n",
       "    .dataframe tbody tr th {\n",
       "        vertical-align: top;\n",
       "    }\n",
       "</style>\n",
       "<table border=\"1\" class=\"dataframe\">\n",
       "  <thead>\n",
       "    <tr style=\"text-align: right;\">\n",
       "      <th></th>\n",
       "      <th>Predicted</th>\n",
       "    </tr>\n",
       "  </thead>\n",
       "  <tbody>\n",
       "    <tr>\n",
       "      <th>2018-03-16</th>\n",
       "      <td>299.00</td>\n",
       "    </tr>\n",
       "    <tr>\n",
       "      <th>2018-03-19</th>\n",
       "      <td>285.28</td>\n",
       "    </tr>\n",
       "  </tbody>\n",
       "</table>\n",
       "</div>"
      ],
      "text/plain": [
       "            Predicted\n",
       "2018-03-16     299.00\n",
       "2018-03-19     285.28"
      ]
     },
     "execution_count": 78,
     "metadata": {},
     "output_type": "execute_result"
    }
   ],
   "source": [
    "Linkdays = pd.DatetimeIndex(pd.date_range(datetime(2018, 3, 16), periods=2, freq=\"3D\"))\n",
    "Linkdays\n",
    "stock_link = pd.DataFrame({'Predicted':[L_i,L_f]}, index=Linkdays)\n",
    "stock_link"
   ]
  },
  {
   "cell_type": "code",
   "execution_count": 79,
   "metadata": {},
   "outputs": [
    {
     "data": {
      "text/html": [
       "<div>\n",
       "<style>\n",
       "    .dataframe thead tr:only-child th {\n",
       "        text-align: right;\n",
       "    }\n",
       "\n",
       "    .dataframe thead th {\n",
       "        text-align: left;\n",
       "    }\n",
       "\n",
       "    .dataframe tbody tr th {\n",
       "        vertical-align: top;\n",
       "    }\n",
       "</style>\n",
       "<table border=\"1\" class=\"dataframe\">\n",
       "  <thead>\n",
       "    <tr style=\"text-align: right;\">\n",
       "      <th></th>\n",
       "      <th>Predicted</th>\n",
       "    </tr>\n",
       "  </thead>\n",
       "  <tbody>\n",
       "    <tr>\n",
       "      <th>2018-03-16</th>\n",
       "      <td>299.00</td>\n",
       "    </tr>\n",
       "    <tr>\n",
       "      <th>2018-03-19</th>\n",
       "      <td>285.28</td>\n",
       "    </tr>\n",
       "    <tr>\n",
       "      <th>2018-04-02</th>\n",
       "      <td>285.28</td>\n",
       "    </tr>\n",
       "    <tr>\n",
       "      <th>2018-04-03</th>\n",
       "      <td>285.56</td>\n",
       "    </tr>\n",
       "    <tr>\n",
       "      <th>2018-04-04</th>\n",
       "      <td>289.39</td>\n",
       "    </tr>\n",
       "    <tr>\n",
       "      <th>2018-04-05</th>\n",
       "      <td>293.07</td>\n",
       "    </tr>\n",
       "    <tr>\n",
       "      <th>2018-04-06</th>\n",
       "      <td>296.27</td>\n",
       "    </tr>\n",
       "  </tbody>\n",
       "</table>\n",
       "</div>"
      ],
      "text/plain": [
       "            Predicted\n",
       "2018-03-16     299.00\n",
       "2018-03-19     285.28\n",
       "2018-04-02     285.28\n",
       "2018-04-03     285.56\n",
       "2018-04-04     289.39\n",
       "2018-04-05     293.07\n",
       "2018-04-06     296.27"
      ]
     },
     "execution_count": 79,
     "metadata": {},
     "output_type": "execute_result"
    }
   ],
   "source": [
    "stock_Future = stock_link.combine_first(stock_future)\n",
    "stock_Future"
   ]
  },
  {
   "cell_type": "code",
   "execution_count": 80,
   "metadata": {},
   "outputs": [
    {
     "data": {
      "image/png": "[encoded data removed]",
      "text/plain": [
       "<matplotlib.figure.Figure at 0x11f964890>"
      ]
     },
     "metadata": {},
     "output_type": "display_data"
    }
   ],
   "source": [
    "plt.figure(figsize=(20,6))\n",
    "plt.title(stock_name, fontsize=25)\n",
    "\n",
    "stock['Close'].plot(label='Actual Values', color=actual_color)\n",
    "stock_Future['Predicted'].plot(label='Predicted Values', color=pred_color)\n",
    "\n",
    "\n",
    "plt.legend()\n",
    "#plt.ylabel('Closing Price (₱)', fontsize=15)\n",
    "plt.xlabel('Date', fontsize=15)\n",
    "plt.xlim(xmin=stock.index[0],xmax=stock_Future.index[-1])\n",
    "plt.xticks(ha='center')\n",
    "\n",
    "plt.tight_layout()"
   ]
  },
  {
   "cell_type": "code",
   "execution_count": 81,
   "metadata": {},
   "outputs": [
    {
     "data": {
      "image/png": "[encoded data removed]",
      "text/plain": [
       "<matplotlib.figure.Figure at 0x11f964ed0>"
      ]
     },
     "metadata": {},
     "output_type": "display_data"
    }
   ],
   "source": [
    "plt.figure(figsize=(12,6))\n",
    "plt.title(stock_name, fontsize=25)\n",
    "\n",
    "stock['Close'].plot(label='Actual Values', color=actual_color)\n",
    "stock_Future['Predicted'].plot(label='Predicted Values', color=pred_color)\n",
    "\n",
    "\n",
    "plt.legend()\n",
    "#plt.ylabel('Closing Price (₱)', fontsize=15)\n",
    "plt.xlabel('Date', fontsize=15)\n",
    "plt.xlim(xmin=stock.index[-30], xmax=stock_Future.index[-1])\n",
    "plt.xticks(ha='center')\n",
    "\n",
    "plt.tight_layout()"
   ]
  },
  {
   "cell_type": "code",
   "execution_count": 82,
   "metadata": {},
   "outputs": [
    {
     "data": {
      "image/png": "[encoded data removed]",
      "text/plain": [
       "<matplotlib.figure.Figure at 0x11fe92dd0>"
      ]
     },
     "metadata": {},
     "output_type": "display_data"
    }
   ],
   "source": [
    "plt.figure(figsize=(8,6))\n",
    "plt.title(stock_name, fontsize=25)\n",
    "\n",
    "stock['Close'].plot(label='Actual Values', color=actual_color)\n",
    "stock_Future['Predicted'].plot(label='Predicted Values', color=pred_color)\n",
    "\n",
    "\n",
    "plt.legend()\n",
    "#plt.ylabel('Closing Price (₱)', fontsize=15)\n",
    "plt.xlabel('Date', fontsize=15)\n",
    "plt.xlim(xmin=stock.index[-19], xmax=stock_Future.index[-1])\n",
    "plt.xticks(ha='center')\n",
    "\n",
    "plt.tight_layout()"
   ]
  },
  {
   "cell_type": "code",
   "execution_count": 83,
   "metadata": {
    "scrolled": true
   },
   "outputs": [
    {
     "data": {
      "image/png": "[encoded data removed]",
      "text/plain": [
       "<matplotlib.figure.Figure at 0x11fad90d0>"
      ]
     },
     "metadata": {},
     "output_type": "display_data"
    }
   ],
   "source": [
    "plt.figure(figsize=(8,4))\n",
    "plt.title(stock_name+': Predicted Closing Prices from', fontsize=15)\n",
    "\n",
    "stock['Close'].plot(label='Actual Price', color=actual_color, legend=True)\n",
    "stock_Future['Predicted'].plot(label='Predicted Price', color=pred_color, legend=True)\n",
    "\n",
    "for i, txt in enumerate(stock_future['Predicted']):\n",
    "    plt.annotate(txt, (stock_future.index[i],stock_future['Predicted'][i]), \n",
    "                xytext=(stock_future.index[i],stock_future['Predicted'][i]+3),\n",
    "                horizontalalignment='center', verticalalignment='bottom')\n",
    "                #arrowprops=dict(arrowstyle=\"-\",color=pred_color))\n",
    "    \n",
    "for i, txt in enumerate(stock_c['Actual']):\n",
    "    plt.annotate(txt, (stock_c.index[i],stock_c['Actual'][i]), \n",
    "                xytext=(stock_c.index[i],stock_c['Actual'][i]-6),\n",
    "                horizontalalignment='center', verticalalignment='bottom', clip_on=True)\n",
    "                #arrowprops=dict(arrowstyle=\"-\",color=actual_color))\n",
    "\n",
    "plt.scatter(stock_c.index,stock_c['Actual'], s=15, color =actual_color)   \n",
    "plt.scatter(stock_Future.index,stock_Future['Predicted'], s=15, color=pred_color)  \n",
    "\n",
    "#plt.ylabel('Closing Price (₱)', fontsize=15)\n",
    "plt.xlabel('Date', fontsize=15)\n",
    "#plt.xlim('2018-03-20', '2018-03-29')\n",
    "\n",
    "plt.xlim(xStartPred, xEndPred)\n",
    "#plt.xlim('2018-03-04', '2018-03-25')\n",
    "plt.ylim(ymin=270, ymax=320)\n",
    "plt.xticks(ha='center')\n",
    "\n",
    "plt.tight_layout()"
   ]
  },
  {
   "cell_type": "code",
   "execution_count": null,
   "metadata": {
    "collapsed": true
   },
   "outputs": [],
   "source": []
  },
  {
   "cell_type": "code",
   "execution_count": null,
   "metadata": {
    "collapsed": true
   },
   "outputs": [],
   "source": []
  }
 ],
 "metadata": {
  "kernelspec": {
   "display_name": "Python 2",
   "language": "python",
   "name": "python2"
  },
  "language_info": {
   "codemirror_mode": {
    "name": "ipython",
    "version": 2
   },
   "file_extension": ".py",
   "mimetype": "text/x-python",
   "name": "python",
   "nbconvert_exporter": "python",
   "pygments_lexer": "ipython2",
   "version": "2.7.14"
  }
 },
 "nbformat": 4,
 "nbformat_minor": 2
}
