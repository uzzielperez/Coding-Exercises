{
 "cells": [
  {
   "cell_type": "code",
   "execution_count": 88,
   "metadata": {},
   "outputs": [],
   "source": [
    "from scipy.optimize import fsolve\n",
    "import math\n",
    "from __future__ import division"
   ]
  },
  {
   "cell_type": "code",
   "execution_count": 41,
   "metadata": {},
   "outputs": [],
   "source": [
    "import mpmath as mp\n",
    "from sympy.solvers import solve\n",
    "import sympy as sp\n",
    "from sympy import solveset, S\n",
    "from sympy.abc import x\n",
    "from sympy import Symbol, nonlinsolve\n",
    "from sympy import nsolve"
   ]
  },
  {
   "cell_type": "markdown",
   "metadata": {},
   "source": [
    "# Some simple examples "
   ]
  },
  {
   "cell_type": "code",
   "execution_count": 20,
   "metadata": {},
   "outputs": [
    {
     "data": {
      "text/plain": [
       "[0]"
      ]
     },
     "execution_count": 20,
     "metadata": {},
     "output_type": "execute_result"
    }
   ],
   "source": [
    "x = Symbol('x')\n",
    "solve(x**2, x)"
   ]
  },
  {
   "cell_type": "code",
   "execution_count": 53,
   "metadata": {},
   "outputs": [
    {
     "name": "stdout",
     "output_type": "stream",
     "text": [
      "{(z, 2/z)}\n",
      "{(1, 2)}\n"
     ]
    }
   ],
   "source": [
    "y = Symbol('y')\n",
    "z = Symbol('z')\n",
    "\n",
    "system = [z**2-2*sp.cosh(y**2) -2, z*y -2]\n",
    "vars = [z,y]\n",
    "soln = nonlinsolve(system, vars)\n",
    "print (soln)\n",
    "\n",
    "def evalTuple(soln, var, sub):\n",
    "    z = var\n",
    "    res1 = soln.subs(z, sub)\n",
    "    return res1\n",
    "\n",
    "print (evalTuple(soln, z, 1))"
   ]
  },
  {
   "cell_type": "markdown",
   "metadata": {},
   "source": [
    "# Ashok's Project"
   ]
  },
  {
   "cell_type": "code",
   "execution_count": 110,
   "metadata": {},
   "outputs": [],
   "source": [
    "import numpy as np\n",
    "import matplotlib.pyplot as plt\n",
    "%matplotlib inline\n",
    "import matplotlib as mpl\n",
    "from mpl_toolkits.mplot3d import Axes3D\n",
    "#fig = plt.figure()\n",
    "#ax = fig.add_subplot(111, projection='3d')"
   ]
  },
  {
   "cell_type": "code",
   "execution_count": 26,
   "metadata": {
    "collapsed": true
   },
   "outputs": [],
   "source": [
    "def twoSolver(x, y, f1, f2):\n",
    "    x = Symbol('%s') %(x)\n",
    "    y = Symbol('%s') %(y)\n",
    "    system = [f1, f2]\n",
    "    vars = [x,y]\n",
    "    soln = nonlinsolve(system, vars)\n",
    "    return soln"
   ]
  },
  {
   "cell_type": "code",
   "execution_count": 105,
   "metadata": {},
   "outputs": [
    {
     "name": "stdout",
     "output_type": "stream",
     "text": [
      "{(1, 0.0625*log(1.31207650332685/cosh(1/2)**2))}\n"
     ]
    }
   ],
   "source": [
    "def equations(T, J):\n",
    "    J2 = J\n",
    "    #m1, B = 0, 2\n",
    "    m1 = Symbol('m1') \n",
    "    B = Symbol('B')\n",
    "    b_exp = sp.cosh((m1/T)+4*J2/T)*sp.cosh((m1/T)-4*J2/T)/pow(sp.cosh(m1/T),2)\n",
    "    f1 = sp.tanh(((1/T)-4*B)*m1)-m1\n",
    "    f2 = (1/16)*sp.log(b_exp, math.e)-B\n",
    "\n",
    "    system = [f1, f2]\n",
    "    vars = [m1,B]\n",
    "    soln = nonlinsolve(system, vars)\n",
    "    res = evalTuple(soln, m1, 1)\n",
    "    return res\n",
    "\n",
    "\n",
    "print (equations(2, 0.1))\n"
   ]
  },
  {
   "cell_type": "code",
   "execution_count": 94,
   "metadata": {
    "collapsed": true
   },
   "outputs": [],
   "source": [
    "# range() function does not support the float type\n",
    "def frange(start, stop, step):\n",
    "    i = start\n",
    "    while i < stop:\n",
    "        yield i\n",
    "        i += step"
   ]
  },
  {
   "cell_type": "code",
   "execution_count": null,
   "metadata": {
    "collapsed": true
   },
   "outputs": [],
   "source": [
    "# Write solutions into .dat file \n",
    "Xs, Ys = [], []\n",
    "with open('solutions.dat', 'w') as f:\n",
    "    for T in frange(0.0, 1.2, 0.01):\n",
    "        if T != 0:\n",
    "            sol = equations(T, 0.1)\n",
    "            print (T, sol)\n",
    "        \n",
    "            \n",
    "            out = \"%s, %s\" %(str(T), str(sol))\n",
    "            f.write(out+\"\\n\")\n",
    "f.close()\n"
   ]
  },
  {
   "cell_type": "markdown",
   "metadata": {},
   "source": [
    "# Numerical Approach"
   ]
  },
  {
   "cell_type": "code",
   "execution_count": 90,
   "metadata": {},
   "outputs": [
    {
     "data": {
      "text/plain": [
       "1.79333118436021e-19"
      ]
     },
     "execution_count": 90,
     "metadata": {},
     "output_type": "execute_result"
    }
   ],
   "source": [
    "def solve_m1_B(T, J):\n",
    "    J2 = J\n",
    "    #m1, B = 0, 2\n",
    "    m1 = Symbol('m1') \n",
    "    B = Symbol('B')\n",
    "    b_exp = sp.cosh((m1/T)+4*J2/T)*sp.cosh((m1/T)-4*J2/T)/pow(sp.cosh(m1/T),2)\n",
    "    f1 = sp.tanh(((1/T)-4*B)*m1)-m1\n",
    "    f2 = (1/16)*sp.log(b_exp, math.e)-B\n",
    "    \n",
    "    # syntax nsolve(functions2solve, vars2solve, initialguesses)\n",
    "    soln = nsolve([f1,f2], [m1, B], [0.01,1])\n",
    "    return soln\n",
    "\n",
    "\n",
    "#print (solve_m1_B(1, 0.1))\n",
    "# Get m1\n",
    "solve_m1_B(1,0.1)[0]\n"
   ]
  },
  {
   "cell_type": "code",
   "execution_count": 113,
   "metadata": {
    "scrolled": false
   },
   "outputs": [
    {
     "data": {
      "image/png": "[encoded data removed]",
      "text/plain": [
       "<matplotlib.figure.Figure at 0x10b91aef0>"
      ]
     },
     "metadata": {},
     "output_type": "display_data"
    }
   ],
   "source": [
    "X, Y, Z = [], [], []\n",
    "with open('numSolns.dat', 'w') as f1:\n",
    "    for T in frange(0.0, 1.2, 0.01):\n",
    "        if T != 0:\n",
    "            m1 = solve_m1_B(T, 0.1)[0]\n",
    "            B = solve_m1_B(T, 0.1)[1]\n",
    "            #print (T, m1, B)\n",
    "            X.append(T)\n",
    "            Y.append(m1)\n",
    "            Z.append(B)\n",
    "            out = \"%s, %s\" %(str(T), str(m1))\n",
    "            f1.write(out+\"\\n\")\n",
    "\n",
    "plt.plot(T, m1)\n",
    "plt.plot(X, Y)\n",
    "plt.show()\n",
    "f1.close()"
   ]
  },
  {
   "cell_type": "code",
   "execution_count": 111,
   "metadata": {},
   "outputs": [
    {
     "data": {
      "image/png": "[encoded data removed]",
      "text/plain": [
       "<matplotlib.figure.Figure at 0x10be0e898>"
      ]
     },
     "metadata": {},
     "output_type": "display_data"
    }
   ],
   "source": [
    "mpl.rcParams['legend.fontsize'] = 10\n",
    "\n",
    "fig = plt.figure()\n",
    "ax = fig.gca(projection='3d')\n",
    "\n",
    "ax.plot(X, Y, Z, label='m vs B vs T')\n",
    "ax.legend()\n",
    "\n",
    "plt.show()"
   ]
  },
  {
   "cell_type": "code",
   "execution_count": 93,
   "metadata": {},
   "outputs": [],
   "source": [
    "#!cat numSolns.dat"
   ]
  },
  {
   "cell_type": "code",
   "execution_count": 85,
   "metadata": {},
   "outputs": [
    {
     "data": {
      "text/plain": [
       "\"\\nT, m1  = [], []\\nfor line in open('numSolns.dat', 'r'):\\n    values = [float(s) for s in line.split()]\\n    T.append(values[0])\\n    m1.append(values[1])\\nplt.plot(T, m1)\\nplt.show()\\n\""
      ]
     },
     "execution_count": 85,
     "metadata": {},
     "output_type": "execute_result"
    }
   ],
   "source": [
    "# Reading form file\n",
    "\"\"\"\n",
    "T, m1  = [], []\n",
    "for line in open('numSolns.dat', 'r'):\n",
    "    values = [float(s) for s in line.split()]\n",
    "    T.append(values[0])\n",
    "    m1.append(values[1])\n",
    "plt.plot(T, m1)\n",
    "plt.show()\n",
    "\"\"\""
   ]
  },
  {
   "cell_type": "code",
   "execution_count": 114,
   "metadata": {},
   "outputs": [],
   "source": [
    "#!cat /Users/up/Downloads/lines3d_demo.py"
   ]
  },
  {
   "cell_type": "code",
   "execution_count": null,
   "metadata": {
    "collapsed": true
   },
   "outputs": [],
   "source": []
  }
 ],
 "metadata": {
  "kernelspec": {
   "display_name": "Python 3",
   "language": "python",
   "name": "python3"
  },
  "language_info": {
   "codemirror_mode": {
    "name": "ipython",
    "version": 3
   },
   "file_extension": ".py",
   "mimetype": "text/x-python",
   "name": "python",
   "nbconvert_exporter": "python",
   "pygments_lexer": "ipython3",
   "version": "3.6.0"
  }
 },
 "nbformat": 4,
 "nbformat_minor": 2
}
